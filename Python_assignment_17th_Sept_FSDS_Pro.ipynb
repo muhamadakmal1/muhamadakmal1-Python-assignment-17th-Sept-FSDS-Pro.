{
  "nbformat": 4,
  "nbformat_minor": 0,
  "metadata": {
    "colab": {
      "provenance": [],
      "collapsed_sections": [
        "irhKsb4oqMeO",
        "Sd8xesiwxGZm",
        "l_PjSo5g4jM0"
      ]
    },
    "kernelspec": {
      "name": "python3",
      "display_name": "Python 3"
    },
    "language_info": {
      "name": "python"
    }
  },
  "cells": [
    {
      "cell_type": "markdown",
      "source": [
        "# For loop"
      ],
      "metadata": {
        "id": "irhKsb4oqMeO"
      }
    },
    {
      "cell_type": "markdown",
      "source": [
        "**Q1. Write a Python program to print numbers from 1 to 10 using a for loop.**"
      ],
      "metadata": {
        "id": "6iWlk2Q1qVnZ"
      }
    },
    {
      "cell_type": "code",
      "execution_count": null,
      "metadata": {
        "colab": {
          "base_uri": "https://localhost:8080/"
        },
        "id": "2tw0MmbHqJzm",
        "outputId": "4bf88d4d-6a3f-442f-b420-b8c3aa44687e"
      },
      "outputs": [
        {
          "output_type": "stream",
          "name": "stdout",
          "text": [
            "1\n",
            "2\n",
            "3\n",
            "4\n",
            "5\n",
            "6\n",
            "7\n",
            "8\n",
            "9\n",
            "10\n"
          ]
        }
      ],
      "source": [
        "for i in range(1,11):\n",
        "    print(i)"
      ]
    },
    {
      "cell_type": "markdown",
      "source": [
        "**Q2. Explain the difference between a for loop and a while loop in Python.**"
      ],
      "metadata": {
        "id": "wCRONExqqhs4"
      }
    },
    {
      "cell_type": "markdown",
      "source": [
        "**Answer:** **For Loop**\n",
        "A for loop in Python is used to iterate over a sequence (such as a list, tuple, dictionary, set, or string) or other iterable objects. The loop runs a specific number of times, determined by the length of the sequence or the range provided.\n",
        "\n",
        "Syntax:\n",
        "   \n",
        "    for variable in iterable:\n",
        "       # code block to execute\n",
        "\n",
        "**While Loop:**\n",
        "A while loop in Python repeatedly executes a block of code as long as a given condition is true. The condition is checked before each iteration, and if it evaluates to False, the loop stops.\n",
        "\n",
        "Syntax:\n",
        "\n",
        "    while condition:\n",
        "      # code block to execute"
      ],
      "metadata": {
        "id": "G0v_yy_cqx0y"
      }
    },
    {
      "cell_type": "markdown",
      "source": [
        "**Q3.  Write a Python program to calculate the sum of all numbers from 1 to 100 using a for loop.**"
      ],
      "metadata": {
        "id": "wPExKCPprhTu"
      }
    },
    {
      "cell_type": "code",
      "source": [
        "# Python program to calculate the sum of all numbers from 1 to 100 using a for loop\n",
        "\n",
        "# Initialize the sum variable\n",
        "total_sum = 0\n",
        "\n",
        "# Use a for loop to iterate through numbers from 1 to 100\n",
        "for number in range(1, 101):\n",
        "    total_sum += number  # Add the current number to the total sum\n",
        "\n",
        "# Print the result\n",
        "print(\"The sum of all numbers from 1 to 100 is:\", total_sum)\n"
      ],
      "metadata": {
        "colab": {
          "base_uri": "https://localhost:8080/"
        },
        "id": "yyIBf3Jnqoor",
        "outputId": "dd036065-922f-4460-e366-19e09d69af28"
      },
      "execution_count": null,
      "outputs": [
        {
          "output_type": "stream",
          "name": "stdout",
          "text": [
            "The sum of all numbers from 1 to 100 is: 5050\n"
          ]
        }
      ]
    },
    {
      "cell_type": "markdown",
      "source": [
        "**Q4. How do you iterate through a list using a for loop in Python**"
      ],
      "metadata": {
        "id": "aUQNz4Q2rsDm"
      }
    },
    {
      "cell_type": "code",
      "source": [
        "# Define a list\n",
        "my_list = [1, 2, 3, 4, 5]\n",
        "\n",
        "# Iterate through the list\n",
        "for item in my_list:\n",
        "    print(item)\n"
      ],
      "metadata": {
        "colab": {
          "base_uri": "https://localhost:8080/"
        },
        "id": "3c_MZVPYrxqb",
        "outputId": "a80a2a94-b74d-4c11-b2bc-eb52e6f96061"
      },
      "execution_count": null,
      "outputs": [
        {
          "output_type": "stream",
          "name": "stdout",
          "text": [
            "1\n",
            "2\n",
            "3\n",
            "4\n",
            "5\n"
          ]
        }
      ]
    },
    {
      "cell_type": "markdown",
      "source": [
        "**Q5. Write a Python program to find the product of all elements in a list using a for loop**"
      ],
      "metadata": {
        "id": "Ag0Qf7-DscCq"
      }
    },
    {
      "cell_type": "code",
      "source": [
        "# Python program to find the product of all elements in a list using a for loop\n",
        "\n",
        "# Define the list\n",
        "my_list = [1, 2, 3, 4, 5]\n",
        "\n",
        "# Initialize the product variable\n",
        "product = 1\n",
        "\n",
        "# Iterate through the list and multiply each element\n",
        "for number in my_list:\n",
        "    product *= number\n",
        "\n",
        "# Print the result\n",
        "print(\"The product of all elements in the list is:\", product)\n"
      ],
      "metadata": {
        "colab": {
          "base_uri": "https://localhost:8080/"
        },
        "id": "_KcvurnLsioW",
        "outputId": "72aa941d-d90c-45eb-c4d0-c8f97bd04f59"
      },
      "execution_count": null,
      "outputs": [
        {
          "output_type": "stream",
          "name": "stdout",
          "text": [
            "The product of all elements in the list is: 120\n"
          ]
        }
      ]
    },
    {
      "cell_type": "markdown",
      "source": [
        "**Q6. Create a Python program that prints all even numbers from 1 to 20 using a for loop**"
      ],
      "metadata": {
        "id": "BfV3F8Jas5W7"
      }
    },
    {
      "cell_type": "code",
      "source": [
        "# Python program to print all even numbers from 1 to 20 using a for loop\n",
        "\n",
        "# Use a for loop to iterate through numbers from 1 to 20\n",
        "for number in range(1, 21):\n",
        "    # Check if the number is even\n",
        "    if number % 2 == 0:\n",
        "        print(number, end=\" \")  # Print the even number\n"
      ],
      "metadata": {
        "colab": {
          "base_uri": "https://localhost:8080/"
        },
        "id": "G8Er4vwvs8v3",
        "outputId": "9a79e3a0-c8e0-4e19-b80f-6fdf4863003c"
      },
      "execution_count": null,
      "outputs": [
        {
          "output_type": "stream",
          "name": "stdout",
          "text": [
            "2 4 6 8 10 12 14 16 18 20 "
          ]
        }
      ]
    },
    {
      "cell_type": "markdown",
      "source": [
        "**Q7. Write a Python program that calculates the factorial of a number using a for loop.**"
      ],
      "metadata": {
        "id": "pvrRrH17tIj5"
      }
    },
    {
      "cell_type": "code",
      "source": [
        "# Python program to calculate the factorial of a number using a for loop\n",
        "\n",
        "# Input: the number for which we want to calculate the factorial\n",
        "number = int(input(\"Enter a number: \"))\n",
        "\n",
        "# Initialize the factorial variable\n",
        "factorial = 1\n",
        "\n",
        "# Use a for loop to calculate the factorial\n",
        "for i in range(1, number + 1):\n",
        "    factorial *= i\n",
        "\n",
        "# Print the result\n",
        "print(f\"The factorial of {number} is {factorial}\")\n"
      ],
      "metadata": {
        "colab": {
          "base_uri": "https://localhost:8080/"
        },
        "id": "-78m8-AGtIPl",
        "outputId": "0baadc58-02f7-4f9f-db25-ba5ef303723e"
      },
      "execution_count": null,
      "outputs": [
        {
          "output_type": "stream",
          "name": "stdout",
          "text": [
            "Enter a number: 5\n",
            "The factorial of 5 is 120\n"
          ]
        }
      ]
    },
    {
      "cell_type": "markdown",
      "source": [
        "**Q8. How can you iterate through the characters of a string using a for loop in Python**"
      ],
      "metadata": {
        "id": "KvJyoLnEtUXD"
      }
    },
    {
      "cell_type": "code",
      "source": [
        "# Define a string\n",
        "my_string = \"Hello, World!\"\n",
        "\n",
        "# Iterate through each character in the string\n",
        "for char in my_string:\n",
        "    print(char)\n"
      ],
      "metadata": {
        "colab": {
          "base_uri": "https://localhost:8080/"
        },
        "id": "IxgC9KDjtbUq",
        "outputId": "b8c35554-4457-40cb-8171-18b2ef6dea59"
      },
      "execution_count": null,
      "outputs": [
        {
          "output_type": "stream",
          "name": "stdout",
          "text": [
            "H\n",
            "e\n",
            "l\n",
            "l\n",
            "o\n",
            ",\n",
            " \n",
            "W\n",
            "o\n",
            "r\n",
            "l\n",
            "d\n",
            "!\n"
          ]
        }
      ]
    },
    {
      "cell_type": "markdown",
      "source": [
        "**Q9. Write a Python program to find the largest number in a list using a for loop.**"
      ],
      "metadata": {
        "id": "epxM4wWVtiW0"
      }
    },
    {
      "cell_type": "code",
      "source": [
        "# Python program to find the largest number in a list using a for loop\n",
        "\n",
        "# Define the list\n",
        "my_list = [10, 24, 56, 17, 89, 34, 12]\n",
        "\n",
        "# Initialize the variable to store the largest number\n",
        "# Start with the first element in the list\n",
        "largest = my_list[0]\n",
        "\n",
        "# Iterate through the list starting from the second element\n",
        "for number in my_list[1:]:\n",
        "    # Update largest if the current number is greater\n",
        "    if number > largest:\n",
        "        largest = number\n",
        "\n",
        "# Print the result\n",
        "print(\"The largest number in the list is:\", largest)\n"
      ],
      "metadata": {
        "colab": {
          "base_uri": "https://localhost:8080/"
        },
        "id": "TgC3yZkYtoDB",
        "outputId": "01568145-d8f3-41a0-fdc5-664911cb1982"
      },
      "execution_count": null,
      "outputs": [
        {
          "output_type": "stream",
          "name": "stdout",
          "text": [
            "The largest number in the list is: 89\n"
          ]
        }
      ]
    },
    {
      "cell_type": "markdown",
      "source": [
        "**Q10. Create a Python program that prints the Fibonacci sequence up to a specified limit using a for loop.**"
      ],
      "metadata": {
        "id": "yZstYzC6tyyT"
      }
    },
    {
      "cell_type": "code",
      "source": [
        "# Python program to print the Fibonacci sequence up to a specified limit using a for loop\n",
        "\n",
        "# Function to print Fibonacci sequence up to a specified limit\n",
        "def fibonacci_sequence(limit):\n",
        "    # Initialize the first two Fibonacci numbers\n",
        "    a, b = 0, 1\n",
        "\n",
        "    # Print the first Fibonacci number\n",
        "    print(a, end=\" \")\n",
        "\n",
        "    # Iterate to print the rest of the sequence\n",
        "    for _ in range(1, limit):\n",
        "        print(b, end=\" \")\n",
        "        # Update the Fibonacci numbers\n",
        "        a, b = b, a + b\n",
        "\n",
        "# Specify the limit\n",
        "limit = int(input(\"Enter the number of Fibonacci numbers to print: \"))\n",
        "\n",
        "# Call the function to print the Fibonacci sequence\n",
        "fibonacci_sequence(limit)\n"
      ],
      "metadata": {
        "colab": {
          "base_uri": "https://localhost:8080/"
        },
        "id": "AiqoBUwpt4kL",
        "outputId": "5a6fe0c7-1b40-4217-a237-6e9db5254412"
      },
      "execution_count": null,
      "outputs": [
        {
          "output_type": "stream",
          "name": "stdout",
          "text": [
            "Enter the number of Fibonacci numbers to print: 6\n",
            "0 1 1 2 3 5 "
          ]
        }
      ]
    },
    {
      "cell_type": "markdown",
      "source": [
        "**Q11. Write a Python program to count the number of vowels in a given string using a for loop.**"
      ],
      "metadata": {
        "id": "XjyXV4zUuIvR"
      }
    },
    {
      "cell_type": "code",
      "source": [
        "# Python program to count the number of vowels in a given string using a for loop\n",
        "\n",
        "# Function to count vowels in a string\n",
        "def count_vowels(input_string):\n",
        "    # Define a set of vowels\n",
        "    vowels = \"aeiouAEIOU\"\n",
        "\n",
        "    # Initialize a counter for vowels\n",
        "    vowel_count = 0\n",
        "\n",
        "    # Iterate through each character in the input string\n",
        "    for char in input_string:\n",
        "        # Check if the character is a vowel\n",
        "        if char in vowels:\n",
        "            vowel_count += 1\n",
        "\n",
        "    return vowel_count\n",
        "\n",
        "# Input string\n",
        "input_string = input(\"Enter a string: \")\n",
        "\n",
        "# Call the function to count vowels\n",
        "vowel_count = count_vowels(input_string)\n",
        "\n",
        "# Print the result\n",
        "print(f\"Number of vowels in '{input_string}': {vowel_count}\")\n"
      ],
      "metadata": {
        "colab": {
          "base_uri": "https://localhost:8080/"
        },
        "id": "bGU4FU5tuCy7",
        "outputId": "49a95871-7004-4ac8-b06c-104d26f870c0"
      },
      "execution_count": null,
      "outputs": [
        {
          "output_type": "stream",
          "name": "stdout",
          "text": [
            "Enter a string: Muhamad Akmal\n",
            "Number of vowels in 'Muhamad Akmal': 5\n"
          ]
        }
      ]
    },
    {
      "cell_type": "markdown",
      "source": [
        "**Q12. Create a Python program that generates a multiplication table for a given number using a for loop.**"
      ],
      "metadata": {
        "id": "tTb3-CA1uV7k"
      }
    },
    {
      "cell_type": "code",
      "source": [
        "# Python program to generate a multiplication table for a given number using a for loop\n",
        "\n",
        "# Function to generate multiplication table\n",
        "def multiplication_table(number):\n",
        "    print(f\"Multiplication Table for {number}:\")\n",
        "    for i in range(1, 11):  # Generate table from 1 to 10\n",
        "        print(f\"{number} x {i} = {number * i}\")\n",
        "\n",
        "# Input: the number for which we want to generate the table\n",
        "number = int(input(\"Enter a number: \"))\n",
        "\n",
        "# Call the function to generate the multiplication table\n",
        "multiplication_table(number)\n",
        "\n"
      ],
      "metadata": {
        "colab": {
          "base_uri": "https://localhost:8080/"
        },
        "id": "HuageXePuZ8l",
        "outputId": "4da3f4cd-16bf-4025-b39a-f240e3d38763"
      },
      "execution_count": null,
      "outputs": [
        {
          "output_type": "stream",
          "name": "stdout",
          "text": [
            "Enter a number: 4\n",
            "Multiplication Table for 4:\n",
            "4 x 1 = 4\n",
            "4 x 2 = 8\n",
            "4 x 3 = 12\n",
            "4 x 4 = 16\n",
            "4 x 5 = 20\n",
            "4 x 6 = 24\n",
            "4 x 7 = 28\n",
            "4 x 8 = 32\n",
            "4 x 9 = 36\n",
            "4 x 10 = 40\n"
          ]
        }
      ]
    },
    {
      "cell_type": "markdown",
      "source": [
        "**Q13Write a Python program to reverse a list using a for loop.**"
      ],
      "metadata": {
        "id": "Gf2wQJUiuktV"
      }
    },
    {
      "cell_type": "code",
      "source": [
        "# Python program to reverse a list using a for loop\n",
        "\n",
        "# Function to reverse a list\n",
        "def reverse_list(input_list):\n",
        "    # Initialize an empty list to store reversed elements\n",
        "    reversed_list = []\n",
        "\n",
        "    # Iterate over the input list in reverse order using a for loop\n",
        "    for i in range(len(input_list) - 1, -1, -1):\n",
        "        reversed_list.append(input_list[i])\n",
        "\n",
        "    return reversed_list\n",
        "\n",
        "# Example usage:\n",
        "# Define a list\n",
        "my_list = [1, 2, 3, 4, 5]\n",
        "\n",
        "# Call the function to reverse the list\n",
        "reversed_list = reverse_list(my_list)\n",
        "\n",
        "# Print the original and reversed lists\n",
        "print(\"Original list:\", my_list)\n",
        "print(\"Reversed list:\", reversed_list)\n"
      ],
      "metadata": {
        "colab": {
          "base_uri": "https://localhost:8080/"
        },
        "id": "R5EarKd6up_t",
        "outputId": "31cf0963-5f8c-4d89-fc0d-14ac16a5a578"
      },
      "execution_count": null,
      "outputs": [
        {
          "output_type": "stream",
          "name": "stdout",
          "text": [
            "Original list: [1, 2, 3, 4, 5]\n",
            "Reversed list: [5, 4, 3, 2, 1]\n"
          ]
        }
      ]
    },
    {
      "cell_type": "markdown",
      "source": [
        "**Q14. Write a Python program to find the common elements between two lists using a for loop.**"
      ],
      "metadata": {
        "id": "d_bO76CEuxXd"
      }
    },
    {
      "cell_type": "code",
      "source": [
        "# Python program to find common elements between two lists using a for loop\n",
        "\n",
        "# Function to find common elements\n",
        "def find_common_elements(list1, list2):\n",
        "    common_elements = []\n",
        "\n",
        "    # Iterate through elements of list1\n",
        "    for elem1 in list1:\n",
        "        # Iterate through elements of list2\n",
        "        for elem2 in list2:\n",
        "            # Check if element from list1 exists in list2 and is not already in common_elements\n",
        "            if elem1 == elem2 and elem1 not in common_elements:\n",
        "                common_elements.append(elem1)\n",
        "\n",
        "    return common_elements\n",
        "\n",
        "# Example usage:\n",
        "# Define two lists\n",
        "list1 = [1, 2, 3, 4, 5]\n",
        "list2 = [3, 4, 5, 6, 7]\n",
        "\n",
        "# Call the function to find common elements\n",
        "common_elements = find_common_elements(list1, list2)\n",
        "\n",
        "# Print the common elements\n",
        "print(\"Common elements between list1 and list2:\", common_elements)\n"
      ],
      "metadata": {
        "colab": {
          "base_uri": "https://localhost:8080/"
        },
        "id": "dMbe-KA3u2MI",
        "outputId": "a96ebced-9ec6-476d-881a-0dc671c57aa8"
      },
      "execution_count": null,
      "outputs": [
        {
          "output_type": "stream",
          "name": "stdout",
          "text": [
            "Common elements between list1 and list2: [3, 4, 5]\n"
          ]
        }
      ]
    },
    {
      "cell_type": "markdown",
      "source": [
        "**Q15. Explain how to use a for loop to iterate through the keys and values of a dictionary in Python.**"
      ],
      "metadata": {
        "id": "tp6bEUR3vAgL"
      }
    },
    {
      "cell_type": "code",
      "source": [
        "# Define a dictionary\n",
        "my_dict = {'a': 1, 'b': 2, 'c': 3}\n",
        "\n",
        "# Iterate through keys and values\n",
        "for key, value in my_dict.items():\n",
        "    print(f\"Key: {key}, Value: {value}\")\n"
      ],
      "metadata": {
        "colab": {
          "base_uri": "https://localhost:8080/"
        },
        "id": "ua1iYjw3vI2k",
        "outputId": "91166856-595f-4680-d5d4-1bba5683d9f7"
      },
      "execution_count": null,
      "outputs": [
        {
          "output_type": "stream",
          "name": "stdout",
          "text": [
            "Key: a, Value: 1\n",
            "Key: b, Value: 2\n",
            "Key: c, Value: 3\n"
          ]
        }
      ]
    },
    {
      "cell_type": "markdown",
      "source": [
        "**Q16. Write a Python program to find the GCD (Greatest Common Divisor) of two numbers using a for loop.**"
      ],
      "metadata": {
        "id": "lwsK0oF8vLnB"
      }
    },
    {
      "cell_type": "code",
      "source": [
        "# Python program to find the GCD (Greatest Common Divisor) of two numbers using a for loop\n",
        "\n",
        "# Function to calculate GCD using Euclidean algorithm\n",
        "def gcd(a, b):\n",
        "    # Make sure a is greater than or equal to b\n",
        "    if b > a:\n",
        "        a, b = b, a\n",
        "\n",
        "    # Iterate from 1 to the smaller of a or b\n",
        "    for i in range(1, b + 1):\n",
        "        if a % i == 0 and b % i == 0:\n",
        "            gcd_value = i  # Update gcd_value if i divides both a and b\n",
        "\n",
        "    return gcd_value\n",
        "\n",
        "# Input two numbers\n",
        "num1 = int(input(\"Enter first number: \"))\n",
        "num2 = int(input(\"Enter second number: \"))\n",
        "\n",
        "# Call the gcd function to find the GCD\n",
        "result_gcd = gcd(num1, num2)\n",
        "\n",
        "# Print the result\n",
        "print(f\"The GCD of {num1} and {num2} is:\", result_gcd)\n",
        "3\n"
      ],
      "metadata": {
        "colab": {
          "base_uri": "https://localhost:8080/"
        },
        "id": "hmoJFjM6vOzR",
        "outputId": "ab3d72ee-e409-4f87-862f-3c9f978b5a11"
      },
      "execution_count": null,
      "outputs": [
        {
          "output_type": "stream",
          "name": "stdout",
          "text": [
            "Enter first number: 5\n",
            "Enter second number: 6\n",
            "The GCD of 5 and 6 is: 1\n"
          ]
        }
      ]
    },
    {
      "cell_type": "markdown",
      "source": [
        "**Q17. Create a Python program that checks if a string is a palindrome using a for loop.**"
      ],
      "metadata": {
        "id": "oVRYJV-PvXJ9"
      }
    },
    {
      "cell_type": "code",
      "source": [
        "# Python program to check if a string is a palindrome using a for loop\n",
        "\n",
        "# Function to check palindrome\n",
        "def is_palindrome(input_string):\n",
        "    # Convert input_string to lowercase and remove spaces\n",
        "    input_string = input_string.lower().replace(\" \", \"\")\n",
        "\n",
        "    # Initialize variables for indices\n",
        "    start_index = 0\n",
        "    end_index = len(input_string) - 1\n",
        "\n",
        "    # Iterate through the string using a for loop\n",
        "    for i in range(len(input_string) // 2):\n",
        "        if input_string[start_index] != input_string[end_index]:\n",
        "            return False\n",
        "        start_index += 1\n",
        "        end_index -= 1\n",
        "\n",
        "    return True\n",
        "\n",
        "# Input string\n",
        "input_string = input(\"Enter a string: \")\n",
        "\n",
        "# Check if the input string is a palindrome\n",
        "if is_palindrome(input_string):\n",
        "    print(f\"'{input_string}' is a palindrome.\")\n",
        "else:\n",
        "    print(f\"'{input_string}' is not a palindrome.\")\n",
        "\n"
      ],
      "metadata": {
        "colab": {
          "base_uri": "https://localhost:8080/"
        },
        "id": "iP5H0eiEvblQ",
        "outputId": "0f955443-d99d-48c1-ea8d-4cc387b9b857"
      },
      "execution_count": null,
      "outputs": [
        {
          "output_type": "stream",
          "name": "stdout",
          "text": [
            "Enter a string: MOM\n",
            "'MOM' is a palindrome.\n"
          ]
        }
      ]
    },
    {
      "cell_type": "markdown",
      "source": [
        "**Q18. Write a Python program to remove duplicates from a list using a for loop**"
      ],
      "metadata": {
        "id": "SeY-9crIvlGo"
      }
    },
    {
      "cell_type": "code",
      "source": [
        "# Python program to remove duplicates from a list using a for loop\n",
        "\n",
        "# Function to remove duplicates\n",
        "def remove_duplicates(input_list):\n",
        "    # Initialize an empty list to store unique elements\n",
        "    unique_list = []\n",
        "\n",
        "    # Iterate through the input list\n",
        "    for element in input_list:\n",
        "        # Add element to unique_list if it is not already present\n",
        "        if element not in unique_list:\n",
        "            unique_list.append(element)\n",
        "\n",
        "    return unique_list\n",
        "\n",
        "# Example usage:\n",
        "# Define a list with duplicates\n",
        "my_list = [1, 2, 3, 2, 4, 5, 6, 1, 3]\n",
        "\n",
        "# Call the function to remove duplicates\n",
        "result_list = remove_duplicates(my_list)\n",
        "\n",
        "# Print the original and result lists\n",
        "print(\"Original list:\", my_list)\n",
        "print(\"List with duplicates removed:\", result_list)\n"
      ],
      "metadata": {
        "colab": {
          "base_uri": "https://localhost:8080/"
        },
        "id": "ohuOl9r2vpsw",
        "outputId": "50e89c13-01d5-46d1-db49-1a3c782bdb1c"
      },
      "execution_count": null,
      "outputs": [
        {
          "output_type": "stream",
          "name": "stdout",
          "text": [
            "Original list: [1, 2, 3, 2, 4, 5, 6, 1, 3]\n",
            "List with duplicates removed: [1, 2, 3, 4, 5, 6]\n"
          ]
        }
      ]
    },
    {
      "cell_type": "markdown",
      "source": [
        "**Q19. Create a Python program that counts the number of words in a sentence using a for loop**"
      ],
      "metadata": {
        "id": "5CnP7f-Pvx7w"
      }
    },
    {
      "cell_type": "code",
      "source": [
        "# Python program to count the number of words in a sentence using a for loop\n",
        "\n",
        "# Function to count words in a sentence\n",
        "def count_words(sentence):\n",
        "    # Initialize word count to 0\n",
        "    word_count = 0\n",
        "\n",
        "    # Iterate through each character in the sentence\n",
        "    for i in range(len(sentence)):\n",
        "        # Check for transitions from non-whitespace to whitespace characters\n",
        "        if sentence[i] != ' ' and (i == 0 or sentence[i - 1] == ' '):\n",
        "            word_count += 1\n",
        "\n",
        "    return word_count\n",
        "\n",
        "# Example usage:\n",
        "# Input sentence\n",
        "sentence = input(\"Enter a sentence: \")\n",
        "\n",
        "# Call the function to count words\n",
        "num_words = count_words(sentence)\n",
        "\n",
        "# Print the number of words\n",
        "print(f\"Number of words in the sentence: {num_words}\")\n"
      ],
      "metadata": {
        "colab": {
          "base_uri": "https://localhost:8080/"
        },
        "id": "vqazr5Jiv3Cd",
        "outputId": "d556f23d-4abf-44a5-a186-e1b8fe08bba0"
      },
      "execution_count": null,
      "outputs": [
        {
          "output_type": "stream",
          "name": "stdout",
          "text": [
            "Enter a sentence: Once upon a time\n",
            "Number of words in the sentence: 4\n"
          ]
        }
      ]
    },
    {
      "cell_type": "markdown",
      "source": [
        "**Q20. Write a Python program to find the sum of all odd numbers from 1 to 50 using a for loop.**"
      ],
      "metadata": {
        "id": "pWBDc1JCwLfq"
      }
    },
    {
      "cell_type": "code",
      "source": [
        "# Python program to find the sum of all odd numbers from 1 to 50 using a for loop\n",
        "\n",
        "# Initialize sum of odd numbers\n",
        "sum_odd = 0\n",
        "\n",
        "# Iterate through numbers from 1 to 50\n",
        "for num in range(1, 51):\n",
        "    # Check if num is odd\n",
        "    if num % 2 != 0:\n",
        "        sum_odd += num\n",
        "\n",
        "# Print the sum of odd numbers\n",
        "print(\"Sum of odd numbers from 1 to 50:\", sum_odd)\n"
      ],
      "metadata": {
        "colab": {
          "base_uri": "https://localhost:8080/"
        },
        "id": "mvfYbT0IwT0p",
        "outputId": "12823d10-3bb3-4526-c0d5-79c6a18941d0"
      },
      "execution_count": null,
      "outputs": [
        {
          "output_type": "stream",
          "name": "stdout",
          "text": [
            "Sum of odd numbers from 1 to 50: 625\n"
          ]
        }
      ]
    },
    {
      "cell_type": "markdown",
      "source": [
        "**Q21. Write a Python program that checks if a given year is a leap year using a for loop.**"
      ],
      "metadata": {
        "id": "4of37cXXwaaS"
      }
    },
    {
      "cell_type": "code",
      "source": [
        "# Python program to check if a given year is a leap year\n",
        "\n",
        "def is_leap_year(year):\n",
        "    # Leap year is divisible by 4\n",
        "    # However, if it is divisible by 100, it must also be divisible by 400\n",
        "    if (year % 4 == 0 and year % 100 != 0) or (year % 400 == 0):\n",
        "        return True\n",
        "    else:\n",
        "        return False\n",
        "\n",
        "# Input year\n",
        "year = int(input(\"Enter a year: \"))\n",
        "\n",
        "# Check if the year is a leap year\n",
        "if is_leap_year(year):\n",
        "    print(f\"{year} is a leap year.\")\n",
        "else:\n",
        "    print(f\"{year} is not a leap year.\")\n"
      ],
      "metadata": {
        "colab": {
          "base_uri": "https://localhost:8080/"
        },
        "id": "LRWa2QvawfIW",
        "outputId": "cdf2e6ac-ecc2-47bf-ec87-21ca41f993ac"
      },
      "execution_count": null,
      "outputs": [
        {
          "output_type": "stream",
          "name": "stdout",
          "text": [
            "Enter a year: 2024\n",
            "2024 is a leap year.\n"
          ]
        }
      ]
    },
    {
      "cell_type": "markdown",
      "source": [
        "**Q22 Create a Python program that calculates the square root of a number using a for loop.**"
      ],
      "metadata": {
        "id": "Ing71nNgwn0q"
      }
    },
    {
      "cell_type": "code",
      "source": [
        "# Python program to calculate the square root of a number using a for loop (Babylonian method)\n",
        "\n",
        "def square_root(n):\n",
        "    # Initial guess for square root\n",
        "    guess = n / 2\n",
        "    # Number of iterations to refine the guess\n",
        "    num_iterations = 100\n",
        "\n",
        "    # Iterate using a for loop for a fixed number of iterations\n",
        "    for _ in range(num_iterations):\n",
        "        guess = (guess + n / guess) / 2\n",
        "\n",
        "    return guess\n",
        "\n",
        "# Example usage:\n",
        "# Input number for which square root is to be calculated\n",
        "number = float(input(\"Enter a number: \"))\n",
        "\n",
        "# Calculate square root using the square_root function\n",
        "sqrt = square_root(number)\n",
        "\n",
        "# Print the square root\n",
        "print(f\"Square root of {number} is approximately: {sqrt}\")\n"
      ],
      "metadata": {
        "colab": {
          "base_uri": "https://localhost:8080/"
        },
        "id": "cGLDownMwuFL",
        "outputId": "456b1512-6a29-4877-ccf9-9762fe070067"
      },
      "execution_count": null,
      "outputs": [
        {
          "output_type": "stream",
          "name": "stdout",
          "text": [
            "Enter a number: 144\n",
            "Square root of 144.0 is approximately: 12.0\n"
          ]
        }
      ]
    },
    {
      "cell_type": "markdown",
      "source": [
        "**Q23. Write a Python program to find the LCM (Least Common Multiple) of two numbers using a for loop.**"
      ],
      "metadata": {
        "id": "ZMWZcnFkw6da"
      }
    },
    {
      "cell_type": "code",
      "source": [
        "# Python program to find the LCM (Least Common Multiple) of two numbers using a for loop\n",
        "\n",
        "# Function to calculate GCD using Euclidean algorithm\n",
        "def gcd(a, b):\n",
        "    while b:\n",
        "        a, b = b, a % b\n",
        "    return a\n",
        "\n",
        "# Function to calculate LCM\n",
        "def lcm(x, y):\n",
        "    return (x * y) // gcd(x, y)\n",
        "\n",
        "# Input two numbers\n",
        "num1 = int(input(\"Enter first number: \"))\n",
        "num2 = int(input(\"Enter second number: \"))\n",
        "\n",
        "# Calculate LCM using the lcm function\n",
        "result_lcm = lcm(num1, num2)\n",
        "\n",
        "# Print the result\n",
        "print(f\"The LCM of {num1} and {num2} is:\", result_lcm)\n"
      ],
      "metadata": {
        "colab": {
          "base_uri": "https://localhost:8080/"
        },
        "id": "FHlGT82xw-Ut",
        "outputId": "d73da34f-f20f-4b48-d411-0a008a8c7ac2"
      },
      "execution_count": null,
      "outputs": [
        {
          "output_type": "stream",
          "name": "stdout",
          "text": [
            "Enter first number: 2\n",
            "Enter second number: 4\n",
            "The LCM of 2 and 4 is: 4\n"
          ]
        }
      ]
    },
    {
      "cell_type": "markdown",
      "source": [
        "# if else:"
      ],
      "metadata": {
        "id": "Sd8xesiwxGZm"
      }
    },
    {
      "cell_type": "markdown",
      "source": [
        "**Q1. Write a Python program to check if a number is positive, negative, or zero using an if-else statement.**"
      ],
      "metadata": {
        "id": "sAVg01EFxJgl"
      }
    },
    {
      "cell_type": "code",
      "source": [
        "# Python program to check if a number is positive, negative, or zero\n",
        "\n",
        "# Input number\n",
        "num = float(input(\"Enter a number: \"))\n",
        "\n",
        "# Check if the number is positive, negative, or zero using if-else statement\n",
        "if num > 0:\n",
        "    print(f\"{num} is positive.\")\n",
        "elif num < 0:\n",
        "    print(f\"{num} is negative.\")\n",
        "else:\n",
        "    print(\"The number is zero.\")\n"
      ],
      "metadata": {
        "colab": {
          "base_uri": "https://localhost:8080/"
        },
        "id": "5hPiT_NwxPko",
        "outputId": "ef2b6d48-f00d-4e8d-b12f-b4ac00d4078c"
      },
      "execution_count": null,
      "outputs": [
        {
          "output_type": "stream",
          "name": "stdout",
          "text": [
            "Enter a number: -3\n",
            "-3.0 is negative.\n"
          ]
        }
      ]
    },
    {
      "cell_type": "markdown",
      "source": [
        "**Q2. Create a Python program that checks if a given number is even or odd using an if-else statement.**"
      ],
      "metadata": {
        "id": "FdYVVn-vxWkL"
      }
    },
    {
      "cell_type": "code",
      "source": [
        "# Python program to check if a given number is even or odd\n",
        "\n",
        "# Input number\n",
        "num = int(input(\"Enter a number: \"))\n",
        "\n",
        "# Check if the number is even or odd using if-else statement\n",
        "if num % 2 == 0:\n",
        "    print(f\"{num} is even.\")\n",
        "else:\n",
        "    print(f\"{num} is odd.\")\n"
      ],
      "metadata": {
        "colab": {
          "base_uri": "https://localhost:8080/"
        },
        "id": "CCoRws-uxbje",
        "outputId": "365a9e36-ce61-4c3f-d938-65aa2e60f7c6"
      },
      "execution_count": null,
      "outputs": [
        {
          "output_type": "stream",
          "name": "stdout",
          "text": [
            "Enter a number: 4\n",
            "4 is even.\n"
          ]
        }
      ]
    },
    {
      "cell_type": "markdown",
      "source": [
        "**Q3. How can you use nested if-else statements in Python, and provide an example?**"
      ],
      "metadata": {
        "id": "NMvqYzGgxkLc"
      }
    },
    {
      "cell_type": "markdown",
      "source": [
        "***Answer: ***<br>\n",
        "       Nested if-else statements in Python allow you to have multiple levels of conditional checks within each other. This is useful when you need to evaluate conditions in a hierarchical or sequential manner. Here's an example to demonstrate nested if-else statements:"
      ],
      "metadata": {
        "id": "aAHaiGh7xtRT"
      }
    },
    {
      "cell_type": "code",
      "source": [
        "# Example of nested if-else statements in Python\n",
        "\n",
        "# Input age\n",
        "age = int(input(\"Enter your age: \"))\n",
        "\n",
        "# Nested if-else statements to determine ticket price based on age\n",
        "if age < 0:\n",
        "    print(\"Age cannot be negative.\")\n",
        "else:\n",
        "    if age <= 3:\n",
        "        print(\"Ticket price: Free\")\n",
        "    elif age <= 12:\n",
        "        print(\"Ticket price: $10\")\n",
        "    elif age <= 65:\n",
        "        print(\"Ticket price: $15\")\n",
        "    else:\n",
        "        print(\"Ticket price: $12\")\n"
      ],
      "metadata": {
        "colab": {
          "base_uri": "https://localhost:8080/"
        },
        "id": "B9BJHfKAx1ol",
        "outputId": "06dce99a-ffa6-494c-f3a8-a111e20f52c1"
      },
      "execution_count": null,
      "outputs": [
        {
          "output_type": "stream",
          "name": "stdout",
          "text": [
            "Enter your age: 7\n",
            "Ticket price: $10\n"
          ]
        }
      ]
    },
    {
      "cell_type": "markdown",
      "source": [
        "**Q4. Write a Python program to determine the largest of three numbers using if-else.**"
      ],
      "metadata": {
        "id": "1me7_T2XyAqf"
      }
    },
    {
      "cell_type": "code",
      "source": [
        "# Python program to determine the largest of three numbers using if-else\n",
        "\n",
        "# Input three numbers\n",
        "num1 = float(input(\"Enter first number: \"))\n",
        "num2 = float(input(\"Enter second number: \"))\n",
        "num3 = float(input(\"Enter third number: \"))\n",
        "\n",
        "# Determine the largest number using if-else statements\n",
        "if num1 >= num2 and num1 >= num3:\n",
        "    largest = num1\n",
        "elif num2 >= num1 and num2 >= num3:\n",
        "    largest = num2\n",
        "else:\n",
        "    largest = num3\n",
        "\n",
        "\n",
        "# Print the largest number\n",
        "print(f\"The largest number among {num1}, {num2}, and {num3} is:\", largest)\n"
      ],
      "metadata": {
        "colab": {
          "base_uri": "https://localhost:8080/"
        },
        "id": "WNxUL4OLyGxh",
        "outputId": "1d83f75e-ca55-4955-d5ef-be82e9895de7"
      },
      "execution_count": null,
      "outputs": [
        {
          "output_type": "stream",
          "name": "stdout",
          "text": [
            "Enter first number: 4\n",
            "Enter second number: 5\n",
            "Enter third number: 7\n",
            "The largest number among 4.0, 5.0, and 7.0 is: 7.0\n"
          ]
        }
      ]
    },
    {
      "cell_type": "markdown",
      "source": [
        "**Q5. Write a Python program that calculates the absolute value of a number using if-else.**"
      ],
      "metadata": {
        "id": "-iiMJtSmyYV8"
      }
    },
    {
      "cell_type": "code",
      "source": [
        "# Python program to calculate the absolute value of a number using abs() function\n",
        "\n",
        "# Input number\n",
        "num = float(input(\"Enter a number: \"))\n",
        "\n",
        "# Calculate absolute value using abs() function\n",
        "abs_value = abs(num)\n",
        "\n",
        "# Print the absolute value\n",
        "print(f\"The absolute value of {num} is:\", abs_value)\n"
      ],
      "metadata": {
        "colab": {
          "base_uri": "https://localhost:8080/"
        },
        "id": "9SLUFIEsygI1",
        "outputId": "9b50f066-d309-47a5-c590-e9eca4829686"
      },
      "execution_count": null,
      "outputs": [
        {
          "output_type": "stream",
          "name": "stdout",
          "text": [
            "Enter a number: 4\n",
            "The absolute value of 4.0 is: 4.0\n"
          ]
        }
      ]
    },
    {
      "cell_type": "markdown",
      "source": [
        "**Q6. Create a Python program that checks if a given character is a vowel or consonant using if-else.**"
      ],
      "metadata": {
        "id": "EJAvMybzyvwD"
      }
    },
    {
      "cell_type": "code",
      "source": [
        "# Python program to check if a given character is a vowel or consonant using if-else\n",
        "\n",
        "# Input character (assuming single character input)\n",
        "char = input(\"Enter a character: \").lower()  # Convert to lowercase for case insensitivity\n",
        "\n",
        "# Check if the character is a vowel or consonant using if-else\n",
        "if char.isalpha() and len(char) == 1:\n",
        "    if char in 'aeiou':\n",
        "        print(f\"{char} is a vowel.\")\n",
        "    else:\n",
        "        print(f\"{char} is a consonant.\")\n",
        "else:\n",
        "    print(\"Please enter a valid single alphabetical character.\")\n"
      ],
      "metadata": {
        "colab": {
          "base_uri": "https://localhost:8080/"
        },
        "id": "LDdcwyWjyu2c",
        "outputId": "a4639e84-2933-4cf6-9eb3-d7184858abf1"
      },
      "execution_count": null,
      "outputs": [
        {
          "output_type": "stream",
          "name": "stdout",
          "text": [
            "Enter a character: e\n",
            "e is a vowel.\n"
          ]
        }
      ]
    },
    {
      "cell_type": "markdown",
      "source": [
        "**Q7. Write a Python program to determine if a user is eligible to vote based on their age using if-else.**"
      ],
      "metadata": {
        "id": "rot48cECy7ls"
      }
    },
    {
      "cell_type": "code",
      "source": [
        "# Python program to determine if a user is eligible to vote based on their age using if-else\n",
        "\n",
        "# Input age\n",
        "age = int(input(\"Enter your age: \"))\n",
        "\n",
        "# Check if the user is eligible to vote using if-else statement\n",
        "if age >= 18:\n",
        "    print(\"You are eligible to vote.\")\n",
        "else:\n",
        "    print(\"You are not eligible to vote yet.\")\n"
      ],
      "metadata": {
        "colab": {
          "base_uri": "https://localhost:8080/"
        },
        "id": "wcW8E8ioy_cO",
        "outputId": "0803a680-287f-4578-c89a-dd1584b5e290"
      },
      "execution_count": null,
      "outputs": [
        {
          "output_type": "stream",
          "name": "stdout",
          "text": [
            "Enter your age: 18\n",
            "You are eligible to vote.\n"
          ]
        }
      ]
    },
    {
      "cell_type": "markdown",
      "source": [
        "**Q8. Create a Python program that calculates the discount amount based on the purchase amount using if-else.**"
      ],
      "metadata": {
        "id": "uWJ2awrkzERz"
      }
    },
    {
      "cell_type": "code",
      "source": [
        "# Python program to calculate the discount amount based on the purchase amount using if-else\n",
        "\n",
        "# Input purchase amount\n",
        "purchase_amount = float(input(\"Enter the purchase amount: \"))\n",
        "\n",
        "# Determine discount amount based on purchase amount using if-else\n",
        "if purchase_amount >= 1000:\n",
        "    discount_percent = 10\n",
        "elif purchase_amount >= 500:\n",
        "    discount_percent = 5\n",
        "else:\n",
        "    discount_percent = 0\n",
        "\n",
        "# Calculate discount amount\n",
        "discount_amount = (discount_percent / 100) * purchase_amount\n",
        "\n",
        "# Print the discount amount\n",
        "print(f\"Discount amount for a purchase of ${purchase_amount:.2f} is ${discount_amount:.2f}\")\n"
      ],
      "metadata": {
        "colab": {
          "base_uri": "https://localhost:8080/"
        },
        "id": "JDS2P5WSzK48",
        "outputId": "be6626cd-7971-4494-de00-22ec8f173fea"
      },
      "execution_count": null,
      "outputs": [
        {
          "output_type": "stream",
          "name": "stdout",
          "text": [
            "Enter the purchase amount: 10000\n",
            "Discount amount for a purchase of $10000.00 is $1000.00\n"
          ]
        }
      ]
    },
    {
      "cell_type": "markdown",
      "source": [
        "**Q9. Write a Python program to check if a number is within a specified range using if-else**"
      ],
      "metadata": {
        "id": "gbB0AON-zLkT"
      }
    },
    {
      "cell_type": "code",
      "source": [
        "# Python program to check if a number is within a specified range using if-else\n",
        "\n",
        "# Specified range\n",
        "lower_limit = 10\n",
        "upper_limit = 50\n",
        "\n",
        "# Input number\n",
        "num = float(input(\"Enter a number to check: \"))\n",
        "\n",
        "# Check if the number is within the specified range using if-else\n",
        "if num >= lower_limit and num <= upper_limit:\n",
        "    print(f\"{num} is within the range [{lower_limit}, {upper_limit}]\")\n",
        "else:\n",
        "    print(f\"{num} is NOT within the range [{lower_limit}, {upper_limit}]\")\n"
      ],
      "metadata": {
        "colab": {
          "base_uri": "https://localhost:8080/"
        },
        "id": "bQHb9i6EzRxS",
        "outputId": "455f069e-40a4-4b56-b259-308a588627b6"
      },
      "execution_count": null,
      "outputs": [
        {
          "output_type": "stream",
          "name": "stdout",
          "text": [
            "Enter a number to check: 45\n",
            "45.0 is within the range [10, 50]\n"
          ]
        }
      ]
    },
    {
      "cell_type": "markdown",
      "source": [
        "**Q10 Create a Python program that determines the grade of a student based on their score using if-else.**"
      ],
      "metadata": {
        "id": "oEU1OmSCzj_a"
      }
    },
    {
      "cell_type": "code",
      "source": [
        "# Python program to determine the grade of a student based on their score using if-else\n",
        "\n",
        "# Input score\n",
        "score = float(input(\"Enter the score: \"))\n",
        "\n",
        "# Determine grade based on score using if-else\n",
        "if score >= 90:\n",
        "    grade = 'A'\n",
        "elif score >= 80:\n",
        "    grade = 'B'\n",
        "elif score >= 70:\n",
        "    grade = 'C'\n",
        "elif score >= 60:\n",
        "    grade = 'D'\n",
        "else:\n",
        "    grade = 'F'\n",
        "\n",
        "# Print the grade\n",
        "print(f\"The grade for score {score} is:\", grade)\n"
      ],
      "metadata": {
        "colab": {
          "base_uri": "https://localhost:8080/"
        },
        "id": "T_36ZUflzq11",
        "outputId": "8f173377-0cc2-4c80-985c-c5249dba4def"
      },
      "execution_count": null,
      "outputs": [
        {
          "output_type": "stream",
          "name": "stdout",
          "text": [
            "Enter the score: 50\n",
            "The grade for score 50.0 is: F\n"
          ]
        }
      ]
    },
    {
      "cell_type": "markdown",
      "source": [
        "**Q11. Write a Python program to check if a string is empty or not using if-else.**"
      ],
      "metadata": {
        "id": "AcicPT0Zznlf"
      }
    },
    {
      "cell_type": "code",
      "source": [
        "# Python program to check if a string is empty or not using if-else\n",
        "\n",
        "# Input string\n",
        "string = input(\"Enter a string: \")\n",
        "\n",
        "# Check if the string is empty using if-else\n",
        "if string:\n",
        "    print(\"The string is not empty.\")\n",
        "else:\n",
        "    print(\"The string is empty.\")\n"
      ],
      "metadata": {
        "colab": {
          "base_uri": "https://localhost:8080/"
        },
        "id": "vlAcNsh0zqN-",
        "outputId": "a551b766-133c-4be8-9b46-a132912e99cf"
      },
      "execution_count": null,
      "outputs": [
        {
          "output_type": "stream",
          "name": "stdout",
          "text": [
            "Enter a string: mango\n",
            "The string is not empty.\n"
          ]
        }
      ]
    },
    {
      "cell_type": "markdown",
      "source": [
        "**Q12. Create a Python program that identifies the type of a triangle (e.g., equilateral**"
      ],
      "metadata": {
        "id": "wxuqSBeEz59p"
      }
    },
    {
      "cell_type": "code",
      "source": [
        "# Python program to identify the type of a triangle based on its sides using if-else\n",
        "\n",
        "# Input sides of the triangle\n",
        "side1 = float(input(\"Enter length of side 1: \"))\n",
        "side2 = float(input(\"Enter length of side 2: \"))\n",
        "side3 = float(input(\"Enter length of side 3: \"))\n",
        "\n",
        "# Check the type of triangle using if-else\n",
        "if side1 == side2 == side3:\n",
        "    triangle_type = \"Equilateral triangle\"\n",
        "elif side1 == side2 or side1 == side3 or side2 == side3:\n",
        "    triangle_type = \"Isosceles triangle\"\n",
        "else:\n",
        "    triangle_type = \"Scalene triangle\"\n",
        "\n",
        "# Print the type of triangle\n",
        "print(f\"The triangle with sides {side1}, {side2}, {side3} is a:\", triangle_type)\n",
        "\n"
      ],
      "metadata": {
        "colab": {
          "base_uri": "https://localhost:8080/"
        },
        "id": "OXR86nq5z8Yn",
        "outputId": "c3fdf5b6-7842-4dc1-8f7b-09a1759ea12c"
      },
      "execution_count": null,
      "outputs": [
        {
          "output_type": "stream",
          "name": "stdout",
          "text": [
            "Enter length of side 1: 32\n",
            "Enter length of side 2: 43\n",
            "Enter length of side 3: 10\n",
            "The triangle with sides 32.0, 43.0, 10.0 is a: Scalene triangle\n"
          ]
        }
      ]
    },
    {
      "cell_type": "markdown",
      "source": [
        "**Q13. Write a Python program to determine the day of the week based on a user-provided number using if-else.**"
      ],
      "metadata": {
        "id": "sdZmatDt0Xs_"
      }
    },
    {
      "cell_type": "code",
      "source": [
        "# Python program to determine the day of the week based on a user-provided number using if-else\n",
        "\n",
        "# Input day number\n",
        "day_number = int(input(\"Enter a number (1-7) to determine the day of the week: \"))\n",
        "\n",
        "# Determine the day of the week using if-else\n",
        "if day_number == 1:\n",
        "    day_name = \"Monday\"\n",
        "elif day_number == 2:\n",
        "    day_name = \"Tuesday\"\n",
        "elif day_number == 3:\n",
        "    day_name = \"Wednesday\"\n",
        "elif day_number == 4:\n",
        "    day_name = \"Thursday\"\n",
        "elif day_number == 5:\n",
        "    day_name = \"Friday\"\n",
        "elif day_number == 6:\n",
        "    day_name = \"Saturday\"\n",
        "elif day_number == 7:\n",
        "    day_name = \"Sunday\"\n",
        "else:\n",
        "    day_name = \"Invalid input. Please enter a number between 1 and 7.\"\n",
        "\n",
        "# Print the day of the week\n",
        "print(f\"The day corresponding to number {day_number} is:\", day_name)\n"
      ],
      "metadata": {
        "colab": {
          "base_uri": "https://localhost:8080/"
        },
        "id": "Yx1no_vk0g4u",
        "outputId": "3f46527d-f03b-410a-f021-1ef4d6c028a3"
      },
      "execution_count": null,
      "outputs": [
        {
          "output_type": "stream",
          "name": "stdout",
          "text": [
            "Enter a number (1-7) to determine the day of the week: 3\n",
            "The day corresponding to number 3 is: Wednesday\n"
          ]
        }
      ]
    },
    {
      "cell_type": "markdown",
      "source": [
        "**Q14. Create a Python program that checks if a given year is a leap year using both if-else and a function.**"
      ],
      "metadata": {
        "id": "1GCQt2580nEu"
      }
    },
    {
      "cell_type": "code",
      "source": [
        "# Python program to check if a given year is a leap year using if-else\n",
        "\n",
        "# Input year\n",
        "year = int(input(\"Enter a year: \"))\n",
        "\n",
        "# Check if the year is a leap year using if-else\n",
        "if (year % 4 == 0 and year % 100 != 0) or (year % 400 == 0):\n",
        "    print(f\"{year} is a leap year.\")\n",
        "else:\n",
        "    print(f\"{year} is not a leap year.\")\n"
      ],
      "metadata": {
        "colab": {
          "base_uri": "https://localhost:8080/"
        },
        "id": "q7y2ULK60pbf",
        "outputId": "e70d2afc-2c6e-459b-d1ae-faeef7ffa94c"
      },
      "execution_count": null,
      "outputs": [
        {
          "output_type": "stream",
          "name": "stdout",
          "text": [
            "Enter a year: 2023\n",
            "2023 is not a leap year.\n"
          ]
        }
      ]
    },
    {
      "cell_type": "markdown",
      "source": [
        "**Q15. How do you use the \"assert\" statement in Python to add debugging checks within if-else blocks?**"
      ],
      "metadata": {
        "id": "Oy4Hlvp20yLH"
      }
    },
    {
      "cell_type": "markdown",
      "source": [
        "***Answer:***<br>\n",
        "The assert statement in Python is used as a debugging aid to test conditions that should always be true during the execution of the program. It helps detect bugs early in development by verifying assumptions about the state of the program."
      ],
      "metadata": {
        "id": "DcPz36Ra01yY"
      }
    },
    {
      "cell_type": "code",
      "source": [
        "# syntax.\n",
        "assert condition, optional_message"
      ],
      "metadata": {
        "id": "CAzIE3oy1AEt"
      },
      "execution_count": null,
      "outputs": []
    },
    {
      "cell_type": "markdown",
      "source": [
        "**Q16. Create a Python program that determines the eligibility of a person for a senior citizen discount based on age using if-else.**"
      ],
      "metadata": {
        "id": "iJcmxcf51Qrv"
      }
    },
    {
      "cell_type": "code",
      "source": [
        "# Python program to determine eligibility for senior citizen discount based on age using if-else\n",
        "\n",
        "def check_senior_discount(age):\n",
        "    if age >= 60:\n",
        "        return True\n",
        "    else:\n",
        "        return False\n",
        "\n",
        "# Input age\n",
        "age = int(input(\"Enter your age: \"))\n",
        "\n",
        "# Check eligibility for senior citizen discount\n",
        "if check_senior_discount(age):\n",
        "    print(\"Congratulations! You are eligible for a senior citizen discount.\")\n",
        "else:\n",
        "    print(\"Sorry, you are not eligible for a senior citizen discount.\")\n"
      ],
      "metadata": {
        "colab": {
          "base_uri": "https://localhost:8080/"
        },
        "id": "4YGbMKVS1UZK",
        "outputId": "fedb95fc-072e-4c0e-a481-81d326afaecc"
      },
      "execution_count": null,
      "outputs": [
        {
          "output_type": "stream",
          "name": "stdout",
          "text": [
            "Enter your age: 56\n",
            "Sorry, you are not eligible for a senior citizen discount.\n"
          ]
        }
      ]
    },
    {
      "cell_type": "markdown",
      "source": [
        "**Q17. Write a Python program to categorize a given character as uppercase, lowercase, or neither using if-else.**"
      ],
      "metadata": {
        "id": "HR1ouxax1Zba"
      }
    },
    {
      "cell_type": "code",
      "source": [
        "# Python program to categorize a given character as uppercase, lowercase, or neither using if-else\n",
        "\n",
        "# Input character\n",
        "char = input(\"Enter a character: \")\n",
        "\n",
        "# Check if the character is uppercase using isupper()\n",
        "if char.isupper():\n",
        "    print(f\"The character '{char}' is uppercase.\")\n",
        "# Check if the character is lowercase using islower()\n",
        "elif char.islower():\n",
        "    print(f\"The character '{char}' is lowercase.\")\n",
        "# If neither condition is met, it's neither uppercase nor lowercase\n",
        "else:\n",
        "    print(f\"The character '{char}' is neither uppercase nor lowercase.\")\n"
      ],
      "metadata": {
        "colab": {
          "base_uri": "https://localhost:8080/"
        },
        "id": "PGHwfm9u1s5J",
        "outputId": "3b3b5c51-53db-4b24-8807-0f9429f33a57"
      },
      "execution_count": null,
      "outputs": [
        {
          "output_type": "stream",
          "name": "stdout",
          "text": [
            "Enter a character: D\n",
            "The character 'D' is uppercase.\n"
          ]
        }
      ]
    },
    {
      "cell_type": "markdown",
      "source": [
        "**Q18. Write a Python program to determine the roots of a quadratic equation using if-else.**"
      ],
      "metadata": {
        "id": "oXbyo1IT12kY"
      }
    },
    {
      "cell_type": "code",
      "source": [
        "import math\n",
        "\n",
        "# Function to determine roots of a quadratic equation\n",
        "def find_roots(a, b, c):\n",
        "    # Calculate the discriminant\n",
        "    discriminant = b**2 - 4*a*c\n",
        "\n",
        "    # Check the value of the discriminant\n",
        "    if discriminant > 0:\n",
        "        # Two distinct real roots\n",
        "        root1 = (-b + math.sqrt(discriminant)) / (2*a)\n",
        "        root2 = (-b - math.sqrt(discriminant)) / (2*a)\n",
        "        return root1, root2\n",
        "    elif discriminant == 0:\n",
        "        # One real root (repeated)\n",
        "        root = -b / (2*a)\n",
        "        return root, root\n",
        "    else:\n",
        "        # Complex roots (discriminant < 0)\n",
        "        real_part = -b / (2*a)\n",
        "        imaginary_part = math.sqrt(abs(discriminant)) / (2*a)\n",
        "        root1 = complex(real_part, imaginary_part)\n",
        "        root2 = complex(real_part, -imaginary_part)\n",
        "        return root1, root2\n",
        "\n",
        "# Input coefficients of the quadratic equation\n",
        "a = float(input(\"Enter coefficient a: \"))\n",
        "b = float(input(\"Enter coefficient b: \"))\n",
        "c = float(input(\"Enter coefficient c: \"))\n",
        "\n",
        "# Call the function to find roots\n",
        "roots = find_roots(a, b, c)\n",
        "\n",
        "# Print the roots\n",
        "print(\"Roots of the quadratic equation:\")\n",
        "if isinstance(roots[0], complex):\n",
        "    print(f\"Root 1: {roots[0]}\")\n",
        "    print(f\"Root 2: {roots[1]}\")\n",
        "else:\n",
        "    print(f\"Root 1: {roots[0]}\")\n",
        "    print(f\"Root 2: {roots[1]}\")\n"
      ],
      "metadata": {
        "colab": {
          "base_uri": "https://localhost:8080/"
        },
        "id": "8eCC6uqG2AK-",
        "outputId": "8c9ff804-ecb9-4206-9de3-6b97d93bfd77"
      },
      "execution_count": null,
      "outputs": [
        {
          "output_type": "stream",
          "name": "stdout",
          "text": [
            "Enter coefficient a: 3\n",
            "Enter coefficient b: 2\n",
            "Enter coefficient c: 4\n",
            "Roots of the quadratic equation:\n",
            "Root 1: (-0.3333333333333333+1.1055415967851332j)\n",
            "Root 2: (-0.3333333333333333-1.1055415967851332j)\n"
          ]
        }
      ]
    },
    {
      "cell_type": "markdown",
      "source": [
        "**Q19. Create a Python program that checks if a given year is a century year or not using if-else.**"
      ],
      "metadata": {
        "id": "ciN5S-Qy2GXs"
      }
    },
    {
      "cell_type": "code",
      "source": [
        "# Python program to check if a given year is a century year or not using if-else\n",
        "\n",
        "# Input year\n",
        "year = int(input(\"Enter a year: \"))\n",
        "\n",
        "# Check if the year is a century year using if-else\n",
        "if year % 100 == 0:\n",
        "    print(f\"{year} is a century year.\")\n",
        "else:\n",
        "    print(f\"{year} is not a century year.\")\n"
      ],
      "metadata": {
        "id": "a5Q8Z2YV2GBq"
      },
      "execution_count": null,
      "outputs": []
    },
    {
      "cell_type": "markdown",
      "source": [
        "**Q20. Write a Python program to determine if a given number is a perfect square using if-else.**"
      ],
      "metadata": {
        "id": "rhEg1FXa2Pat"
      }
    },
    {
      "cell_type": "code",
      "source": [
        "import math\n",
        "\n",
        "# Function to check if a number is a perfect square\n",
        "def is_perfect_square(number):\n",
        "    # Calculate the square root of the number\n",
        "    sqrt_number = math.sqrt(number)\n",
        "\n",
        "    # Check if the square root is an integer\n",
        "    if sqrt_number.is_integer():\n",
        "        return True\n",
        "    else:\n",
        "        return False\n",
        "\n",
        "# Input number\n",
        "number = int(input(\"Enter a number: \"))\n",
        "\n",
        "# Check if the number is a perfect square\n",
        "if is_perfect_square(number):\n",
        "    print(f\"{number} is a perfect square.\")\n",
        "else:\n",
        "    print(f\"{number} is not a perfect square.\")\n",
        "\n"
      ],
      "metadata": {
        "colab": {
          "base_uri": "https://localhost:8080/"
        },
        "id": "NUM1VWWb2Z_y",
        "outputId": "90daf5ea-36b0-45f7-cff0-a2ce053f162c"
      },
      "execution_count": null,
      "outputs": [
        {
          "output_type": "stream",
          "name": "stdout",
          "text": [
            "Enter a number: 1\n",
            "1 is a perfect square.\n"
          ]
        }
      ]
    },
    {
      "cell_type": "markdown",
      "source": [
        "**Q21. Explain the purpose of the \"continue\" and \"break\" statements within if-else loops.**"
      ],
      "metadata": {
        "id": "WhLRt0Ix2dh4"
      }
    },
    {
      "cell_type": "markdown",
      "source": [
        "***Answer:***<br>\n",
        "**continue:** The continue statement is used to skip the rest of the code inside a loop for the current iteration and continue with the next iteration of the loop. Its primary purpose is to selectively execute parts of the loop's body based on some condition.<br>\n",
        "\n",
        "       for i in range(1, 11):\n",
        "          if i % 2 == 0:\n",
        "             continue\n",
        "          print(i)\n",
        "\n",
        "**break:** The break statement is used to terminate the loop it is currently in, regardless of whether the loop condition is still true. It allows you to prematurely exit the loop based on a certain condition.\n",
        "\n",
        "        while True:\n",
        "          response = input(\"Enter 'quit' to exit: \")\n",
        "         if response.lower() == 'quit':\n",
        "              break\n",
        "         print(f\"You entered: {response}\")\n",
        "\n"
      ],
      "metadata": {
        "id": "Wu-yCUbB27IJ"
      }
    },
    {
      "cell_type": "markdown",
      "source": [
        "**Q22. Create a Python program that calculates the BMI (Body Mass Index) of a person based on their weight and height using if-else.**"
      ],
      "metadata": {
        "id": "hBrpdap92yMH"
      }
    },
    {
      "cell_type": "code",
      "source": [
        "# Function to calculate BMI\n",
        "def calculate_bmi(weight_kg, height_m):\n",
        "    bmi = weight_kg / (height_m ** 2)\n",
        "    return bmi\n",
        "\n",
        "# Input weight in kilograms and height in meters\n",
        "weight = float(input(\"Enter weight in kilograms: \"))\n",
        "height = float(input(\"Enter height in meters: \"))\n",
        "\n",
        "# Calculate BMI\n",
        "bmi = calculate_bmi(weight, height)\n",
        "\n",
        "# Determine BMI category based on WHO guidelines\n",
        "if bmi < 18.5:\n",
        "    category = \"Underweight\"\n",
        "elif bmi >= 18.5 and bmi < 25:\n",
        "    category = \"Normal weight\"\n",
        "elif bmi >= 25 and bmi < 30:\n",
        "    category = \"Overweight\"\n",
        "else:\n",
        "    category = \"Obesity\"\n",
        "\n",
        "# Print BMI and category\n",
        "print(f\"Your BMI is: {bmi:.2f}\")\n",
        "print(f\"BMI Category: {category}\")\n"
      ],
      "metadata": {
        "colab": {
          "base_uri": "https://localhost:8080/"
        },
        "id": "-G4JwOKk3qqO",
        "outputId": "2522efec-38bc-4ff2-dff7-70d40b17feee"
      },
      "execution_count": null,
      "outputs": [
        {
          "output_type": "stream",
          "name": "stdout",
          "text": [
            "Enter weight in kilograms: 40\n",
            "Enter height in meters: 43\n",
            "Your BMI is: 0.02\n",
            "BMI Category: Underweight\n"
          ]
        }
      ]
    },
    {
      "cell_type": "markdown",
      "source": [
        "**Q23. How can you use the \"filter()\" function with if-else statements to filter elements from a list?**"
      ],
      "metadata": {
        "id": "C3UpcRWE32GI"
      }
    },
    {
      "cell_type": "markdown",
      "source": [
        "***Answer:*** <br>\n",
        "The filter() function in Python is used to create an iterator from elements of an iterable (like a list) for which a function returns True."
      ],
      "metadata": {
        "id": "CBdOPqnV4N6-"
      }
    },
    {
      "cell_type": "code",
      "source": [
        "# Example 1: Filter even numbers from a list using filter()\n",
        "\n",
        "numbers = [1, 2, 3, 4, 5, 6, 7, 8, 9, 10]\n",
        "\n",
        "# Define a function to check if a number is even\n",
        "def is_even(n):\n",
        "    return n % 2 == 0\n",
        "\n",
        "# Use filter() to get even numbers from the list\n",
        "even_numbers = list(filter(is_even, numbers))\n",
        "\n",
        "print(\"Even numbers:\", even_numbers)\n"
      ],
      "metadata": {
        "colab": {
          "base_uri": "https://localhost:8080/"
        },
        "id": "AMsOAC6q4CxU",
        "outputId": "be0d8f56-b24f-417d-974a-a9d55907e309"
      },
      "execution_count": null,
      "outputs": [
        {
          "output_type": "stream",
          "name": "stdout",
          "text": [
            "Even numbers: [2, 4, 6, 8, 10]\n"
          ]
        }
      ]
    },
    {
      "cell_type": "markdown",
      "source": [
        "**Q24. Write a Python program to determine if a given number is prime or not using if-else.**"
      ],
      "metadata": {
        "id": "OsfH4Has4Xcr"
      }
    },
    {
      "cell_type": "code",
      "source": [
        "# Function to check if a number is prime\n",
        "def is_prime(number):\n",
        "    # Prime numbers are greater than 1\n",
        "    if number <= 1:\n",
        "        return False\n",
        "\n",
        "    # Check for factors from 2 to sqrt(number)\n",
        "    for i in range(2, int(number**0.5) + 1):\n",
        "        if number % i == 0:\n",
        "            return False\n",
        "\n",
        "    return True\n",
        "\n",
        "# Input number\n",
        "num = int(input(\"Enter a number: \"))\n",
        "\n",
        "# Check if the number is prime\n",
        "if is_prime(num):\n",
        "    print(f\"{num} is a prime number.\")\n",
        "else:\n",
        "    print(f\"{num} is not a prime number.\")\n"
      ],
      "metadata": {
        "colab": {
          "base_uri": "https://localhost:8080/"
        },
        "id": "_4hfgZ7G4eQn",
        "outputId": "028a39ce-3dfa-457e-e1de-78b66e4e967f"
      },
      "execution_count": null,
      "outputs": [
        {
          "output_type": "stream",
          "name": "stdout",
          "text": [
            "Enter a number: 7\n",
            "7 is a prime number.\n"
          ]
        }
      ]
    },
    {
      "cell_type": "markdown",
      "source": [
        "# Map:"
      ],
      "metadata": {
        "id": "l_PjSo5g4jM0"
      }
    },
    {
      "cell_type": "markdown",
      "source": [
        "**Q1. Explain the purpose of the `map()` function in Python and provide an example of how it can be used to apply a function to each element of an iterable.**"
      ],
      "metadata": {
        "id": "jWKZeGJj4pUU"
      }
    },
    {
      "cell_type": "markdown",
      "source": [
        "***Answer:*** <br>\n",
        "The map() function in Python is used to apply a specified function to each item in an iterable (like a list, tuple, etc.) and returns an iterator that yields the results."
      ],
      "metadata": {
        "id": "9VxY5SAi4zKg"
      }
    },
    {
      "cell_type": "code",
      "source": [
        "# Example: Using map() to square each element in a list\n",
        "\n",
        "# List of numbers\n",
        "numbers = [1, 2, 3, 4, 5]\n",
        "\n",
        "# Define a function to square a number\n",
        "def square(x):\n",
        "    return x ** 2\n",
        "\n",
        "# Use map() to apply the function to each element in the list\n",
        "squared_numbers = list(map(square, numbers))\n",
        "\n",
        "# Print the original list and the squared numbers\n",
        "print(\"Original numbers:\", numbers)\n",
        "print(\"Squared numbers:\", squared_numbers)\n"
      ],
      "metadata": {
        "colab": {
          "base_uri": "https://localhost:8080/"
        },
        "id": "IbInPE5N4mQG",
        "outputId": "ec865a20-7b8b-443e-ab0d-29e2627a6824"
      },
      "execution_count": null,
      "outputs": [
        {
          "output_type": "stream",
          "name": "stdout",
          "text": [
            "Original numbers: [1, 2, 3, 4, 5]\n",
            "Squared numbers: [1, 4, 9, 16, 25]\n"
          ]
        }
      ]
    },
    {
      "cell_type": "markdown",
      "source": [
        "**Q2. Write a Python program that uses the `map()` function to square each element of a list of numbers.**"
      ],
      "metadata": {
        "id": "k_DZCPKf5BVk"
      }
    },
    {
      "cell_type": "code",
      "source": [
        "# List of numbers\n",
        "numbers = [1, 2, 3, 4, 5]\n",
        "\n",
        "# Define a function to square a number\n",
        "def square(x):\n",
        "    return x ** 2\n",
        "\n",
        "# Use map() to apply the function to each element in the list\n",
        "squared_numbers = list(map(square, numbers))\n",
        "\n",
        "# Print the original list and the squared numbers\n",
        "print(\"Original numbers:\", numbers)\n",
        "print(\"Squared numbers:\", squared_numbers)\n"
      ],
      "metadata": {
        "colab": {
          "base_uri": "https://localhost:8080/"
        },
        "id": "jF9Y_F4T5K14",
        "outputId": "63e16be0-8f69-4a0d-cdcd-b50dfad3ed87"
      },
      "execution_count": null,
      "outputs": [
        {
          "output_type": "stream",
          "name": "stdout",
          "text": [
            "Original numbers: [1, 2, 3, 4, 5]\n",
            "Squared numbers: [1, 4, 9, 16, 25]\n"
          ]
        }
      ]
    },
    {
      "cell_type": "markdown",
      "source": [
        "**Q3. How does the `map()` function differ from a list comprehension in Python, and when would you choose one over the other?**"
      ],
      "metadata": {
        "id": "NneRS-Pp5Puv"
      }
    },
    {
      "cell_type": "markdown",
      "source": [
        "***Answer:***<br>The map() function and list comprehensions in Python serve similar purposes—they both allow you to apply a function to each element of an iterable. However, they differ in syntax, readability, and usage scenarios.<br>\n",
        "**Example:**"
      ],
      "metadata": {
        "id": "JSRjlU0i6GGL"
      }
    },
    {
      "cell_type": "code",
      "source": [
        "# using map\n",
        "# Applying a built-in function\n",
        "numbers = [1, 2, 3, 4, 5]\n",
        "squared_numbers = list(map(str, numbers))  # Convert numbers to strings\n"
      ],
      "metadata": {
        "id": "CTXuQ0E95RyW"
      },
      "execution_count": null,
      "outputs": []
    },
    {
      "cell_type": "code",
      "source": [
        "# Using ist comprehensions\n",
        "# Filtering and transforming elements\n",
        "numbers = [1, 2, 3, 4, 5]\n",
        "even_squared_numbers = [x ** 2 for x in numbers if x % 2 == 0]  # Square only even numbers\n"
      ],
      "metadata": {
        "id": "ekLGeHVB6bFt"
      },
      "execution_count": null,
      "outputs": []
    },
    {
      "cell_type": "markdown",
      "source": [
        "**Q4. Create a Python program that uses the `map()` function to convert a list of names to uppercase.**"
      ],
      "metadata": {
        "id": "zlMrTC7c6nXc"
      }
    },
    {
      "cell_type": "code",
      "source": [
        "# List of names\n",
        "names = [\"Alice\", \"Bob\", \"Charlie\", \"David\"]\n",
        "\n",
        "# Use map() to convert each name to uppercase\n",
        "uppercased_names = list(map(str.upper, names))\n",
        "\n",
        "# Print the original list and the uppercased names\n",
        "print(\"Original names:\", names)\n",
        "print(\"Uppercased names:\", uppercased_names)\n"
      ],
      "metadata": {
        "colab": {
          "base_uri": "https://localhost:8080/"
        },
        "id": "dBKhYUUh6pUb",
        "outputId": "a8f1a5ab-4d74-449a-b91f-fa902f27fe93"
      },
      "execution_count": null,
      "outputs": [
        {
          "output_type": "stream",
          "name": "stdout",
          "text": [
            "Original names: ['Alice', 'Bob', 'Charlie', 'David']\n",
            "Uppercased names: ['ALICE', 'BOB', 'CHARLIE', 'DAVID']\n"
          ]
        }
      ]
    },
    {
      "cell_type": "markdown",
      "source": [
        "**Q5. Write a Python program that uses the `map()` function to calculate the length of each word in a list of strings**"
      ],
      "metadata": {
        "id": "7Y-roCE46x5t"
      }
    },
    {
      "cell_type": "code",
      "source": [
        "# List of strings (words)\n",
        "words = [\"apple\", \"banana\", \"orange\", \"kiwi\", \"pineapple\"]\n",
        "\n",
        "# Use map() to apply len() function to each word\n",
        "word_lengths = list(map(len, words))\n",
        "\n",
        "# Print the original list and the lengths of words\n",
        "print(\"Original words:\", words)\n",
        "print(\"Lengths of words:\", word_lengths)\n"
      ],
      "metadata": {
        "colab": {
          "base_uri": "https://localhost:8080/"
        },
        "id": "uilpgfbS6xU5",
        "outputId": "687695ea-ee28-4905-a7c9-ea9bdab0d181"
      },
      "execution_count": null,
      "outputs": [
        {
          "output_type": "stream",
          "name": "stdout",
          "text": [
            "Original words: ['apple', 'banana', 'orange', 'kiwi', 'pineapple']\n",
            "Lengths of words: [5, 6, 6, 4, 9]\n"
          ]
        }
      ]
    },
    {
      "cell_type": "markdown",
      "source": [
        "**Q6. How can you use the `map()` function to apply a custom function to elements of multiple lists simultaneously in Python**"
      ],
      "metadata": {
        "id": "fhscJNfV66DP"
      }
    },
    {
      "cell_type": "markdown",
      "source": [
        "***Answer:***<br>In Python, you can use the map() function to apply a custom function to elements of multiple lists simultaneously by passing these lists as arguments to map() along with the custom function. The map() function will then iterate through the lists in parallel and apply the function to corresponding elements<br>\n",
        "**example:**"
      ],
      "metadata": {
        "id": "pdPR8xoQ7GZM"
      }
    },
    {
      "cell_type": "code",
      "source": [
        "# Two lists of numbers\n",
        "list1 = [1, 2, 3, 4, 5]\n",
        "list2 = [10, 20, 30, 40, 50]\n",
        "\n",
        "# Custom function to add corresponding elements\n",
        "def add_elements(x, y):\n",
        "    return x + y\n",
        "\n",
        "# Use map() to apply add_elements to corresponding elements of list1 and list2\n",
        "result = list(map(add_elements, list1, list2))\n",
        "\n",
        "# Print the result\n",
        "print(\"Result of adding corresponding elements:\", result)\n"
      ],
      "metadata": {
        "id": "NMZDJk5l7F6G"
      },
      "execution_count": null,
      "outputs": []
    },
    {
      "cell_type": "markdown",
      "source": [
        "**Q7. Create a Python program that uses `map()` to convert a list of temperatures from Celsius to Fahrenheit.**"
      ],
      "metadata": {
        "id": "aG9K8gDQ7ZHH"
      }
    },
    {
      "cell_type": "code",
      "source": [
        "# List of temperatures in Celsius\n",
        "temperatures_celsius = [0, 10, 20, 30, 40]\n",
        "\n",
        "# Function to convert Celsius to Fahrenheit\n",
        "def celsius_to_fahrenheit(celsius):\n",
        "    return (celsius * 9/5) + 32\n",
        "\n",
        "# Use map() to apply celsius_to_fahrenheit to each temperature\n",
        "temperatures_fahrenheit = list(map(celsius_to_fahrenheit, temperatures_celsius))\n",
        "\n",
        "# Print the original list and the converted temperatures\n",
        "print(\"Temperatures in Celsius:\", temperatures_celsius)\n",
        "print(\"Temperatures in Fahrenheit:\", temperatures_fahrenheit)\n"
      ],
      "metadata": {
        "colab": {
          "base_uri": "https://localhost:8080/"
        },
        "id": "HkELDgNx7bNA",
        "outputId": "3c69077f-dacd-48d3-ca5f-4d2cd6d4a160"
      },
      "execution_count": null,
      "outputs": [
        {
          "output_type": "stream",
          "name": "stdout",
          "text": [
            "Temperatures in Celsius: [0, 10, 20, 30, 40]\n",
            "Temperatures in Fahrenheit: [32.0, 50.0, 68.0, 86.0, 104.0]\n"
          ]
        }
      ]
    },
    {
      "cell_type": "markdown",
      "source": [
        "**Q8. Write a Python program that uses the `map()` function to round each element of a list of floating-point numbers to the nearest integer.**"
      ],
      "metadata": {
        "id": "KajzCbbY7fmT"
      }
    },
    {
      "cell_type": "code",
      "source": [
        "# List of floating-point numbers\n",
        "float_numbers = [3.14, 1.618, 2.718, 4.669, 5.432]\n",
        "\n",
        "# Function to round each number to the nearest integer\n",
        "def round_to_nearest_integer(number):\n",
        "    return round(number)\n",
        "\n",
        "# Use map() to apply round_to_nearest_integer to each float number\n",
        "rounded_numbers = list(map(round_to_nearest_integer, float_numbers))\n",
        "\n",
        "# Print the original list and the rounded numbers\n",
        "print(\"Original float numbers:\", float_numbers)\n",
        "print(\"Rounded numbers:\", rounded_numbers)\n"
      ],
      "metadata": {
        "colab": {
          "base_uri": "https://localhost:8080/"
        },
        "id": "y_yvM4nu7k1I",
        "outputId": "2362905a-4226-47a5-b358-a35a49626ac3"
      },
      "execution_count": null,
      "outputs": [
        {
          "output_type": "stream",
          "name": "stdout",
          "text": [
            "Original float numbers: [3.14, 1.618, 2.718, 4.669, 5.432]\n",
            "Rounded numbers: [3, 2, 3, 5, 5]\n"
          ]
        }
      ]
    },
    {
      "cell_type": "markdown",
      "source": [
        "# Reduce:"
      ],
      "metadata": {
        "id": "rYic4KXK7lN1"
      }
    },
    {
      "cell_type": "markdown",
      "source": [
        "**Q1. What is the `reduce()` function in Python, and what module should you import to use it? Provide an example of its basic usage.**"
      ],
      "metadata": {
        "id": "kS3apc0D7oRx"
      }
    },
    {
      "cell_type": "markdown",
      "source": [
        "**Answer:**<br>\n",
        "             The reduce() function in Python is used to apply a specified function to the items of an iterable (like a list) cumulatively, from left to right, so as to reduce the iterable to a single cumulative value. This function is particularly useful for performing some form of aggregation or combination of elements in an iterable.<br>\n",
        "             **Example**"
      ],
      "metadata": {
        "id": "XH6mDCh--94M"
      }
    },
    {
      "cell_type": "code",
      "source": [
        "from functools import reduce\n",
        "\n",
        "# Define a function to multiply two numbers\n",
        "def multiply(x, y):\n",
        "    return x * y\n",
        "\n",
        "# List of numbers\n",
        "numbers = [1, 2, 3, 4, 5]\n",
        "\n",
        "# Use reduce to apply the multiply function cumulatively to the numbers list\n",
        "result = reduce(multiply, numbers)\n",
        "\n",
        "print(result)\n"
      ],
      "metadata": {
        "colab": {
          "base_uri": "https://localhost:8080/"
        },
        "id": "OLAnSpge-zAc",
        "outputId": "8f8a1d98-c546-4b54-efb8-a13f2930172a"
      },
      "execution_count": null,
      "outputs": [
        {
          "output_type": "stream",
          "name": "stdout",
          "text": [
            "120\n"
          ]
        }
      ]
    },
    {
      "cell_type": "markdown",
      "source": [
        "**Q2. Write a Python program that uses the `reduce()` function to find the product of all elements in a list**"
      ],
      "metadata": {
        "id": "WA_dpsqL_Vee"
      }
    },
    {
      "cell_type": "code",
      "source": [
        "from functools import reduce\n",
        "\n",
        "# Define a function to multiply two numbers\n",
        "def multiply(x, y):\n",
        "    return x * y\n",
        "\n",
        "# List of numbers\n",
        "numbers = [1, 2, 3, 4, 5]\n",
        "\n",
        "# Use reduce to apply the multiply function cumulatively to the numbers list\n",
        "product = reduce(multiply, numbers)\n",
        "\n",
        "print(f\"The product of all elements in the list is: {product}\")\n"
      ],
      "metadata": {
        "colab": {
          "base_uri": "https://localhost:8080/"
        },
        "id": "Qy3TevG7_ccH",
        "outputId": "176da0a4-6f69-40e1-ab14-c41411a257ba"
      },
      "execution_count": null,
      "outputs": [
        {
          "output_type": "stream",
          "name": "stdout",
          "text": [
            "The product of all elements in the list is: 120\n"
          ]
        }
      ]
    },
    {
      "cell_type": "markdown",
      "source": [
        "**Q3. Create a Python program that uses `reduce()` to find the maximum element in a list of numbers.**"
      ],
      "metadata": {
        "id": "-kfvnLRz_n-s"
      }
    },
    {
      "cell_type": "code",
      "source": [
        "from functools import reduce\n",
        "\n",
        "# Define a function to find the maximum of two numbers\n",
        "def find_max(x, y):\n",
        "    return x if x > y else y\n",
        "\n",
        "# List of numbers\n",
        "numbers = [3, 1, 4, 1, 5, 9, 2, 6, 5, 3, 5]\n",
        "\n",
        "# Use reduce to apply the find_max function cumulatively to the numbers list\n",
        "maximum = reduce(find_max, numbers)\n",
        "\n",
        "print(f\"The maximum element in the list is: {maximum}\")\n"
      ],
      "metadata": {
        "colab": {
          "base_uri": "https://localhost:8080/"
        },
        "id": "ibg4xv_T_wVP",
        "outputId": "7db02016-d058-4c42-cadb-156dbf619c1b"
      },
      "execution_count": null,
      "outputs": [
        {
          "output_type": "stream",
          "name": "stdout",
          "text": [
            "The maximum element in the list is: 9\n"
          ]
        }
      ]
    },
    {
      "cell_type": "markdown",
      "source": [
        "**Q4. How can you use the `reduce()` function to concatenate a list of strings into a single string?**"
      ],
      "metadata": {
        "id": "2XR4oQnN_1vm"
      }
    },
    {
      "cell_type": "code",
      "source": [
        "from functools import reduce\n",
        "\n",
        "# Define a function to concatenate two strings\n",
        "def concatenate(x, y):\n",
        "    return x + y\n",
        "\n",
        "# List of strings\n",
        "strings = [\"Hello\", \" \", \"world\", \"!\", \" How\", \" are\", \" you?\"]\n",
        "\n",
        "# Use reduce to apply the concatenate function cumulatively to the strings list\n",
        "result = reduce(concatenate, strings)\n",
        "\n",
        "print(f\"The concatenated string is: {result}\")\n"
      ],
      "metadata": {
        "colab": {
          "base_uri": "https://localhost:8080/"
        },
        "id": "xv7dHuN3_51H",
        "outputId": "e20b51a1-276d-474d-ec11-c750a63f5822"
      },
      "execution_count": null,
      "outputs": [
        {
          "output_type": "stream",
          "name": "stdout",
          "text": [
            "The concatenated string is: Hello world! How are you?\n"
          ]
        }
      ]
    },
    {
      "cell_type": "markdown",
      "source": [
        "**Q5. Write a Python program that calculates the factorial of a number using the `reduce()` function.**"
      ],
      "metadata": {
        "id": "5ekgEYFw_96d"
      }
    },
    {
      "cell_type": "code",
      "source": [
        "from functools import reduce\n",
        "\n",
        "# Define a function to multiply two numbers\n",
        "def multiply(x, y):\n",
        "    return x * y\n",
        "\n",
        "# Function to calculate factorial using reduce\n",
        "def factorial(n):\n",
        "    if n == 0:\n",
        "        return 1\n",
        "    else:\n",
        "        # Create a list of numbers from 1 to n\n",
        "        numbers = list(range(1, n + 1))\n",
        "        # Use reduce to apply the multiply function cumulatively to the numbers list\n",
        "        return reduce(multiply, numbers)\n",
        "\n",
        "# Input number\n",
        "num = 5  # You can change this value to any non-negative integer\n",
        "\n",
        "# Calculate factorial\n",
        "result = factorial(num)\n",
        "\n",
        "print(f\"The factorial of {num} is: {result}\")\n",
        "\n"
      ],
      "metadata": {
        "colab": {
          "base_uri": "https://localhost:8080/"
        },
        "id": "sMfZhbUJ_9eL",
        "outputId": "ae4d031b-d4a4-42a6-ce1a-74127688063b"
      },
      "execution_count": null,
      "outputs": [
        {
          "output_type": "stream",
          "name": "stdout",
          "text": [
            "The factorial of 5 is: 120\n"
          ]
        }
      ]
    },
    {
      "cell_type": "markdown",
      "source": [
        "**Q6. Create a Python program that uses `reduce()` to find the GCD (Greatest Common Divisor) of a list of numbers.**"
      ],
      "metadata": {
        "id": "Jvus1A00AUOi"
      }
    },
    {
      "cell_type": "code",
      "source": [
        "from functools import reduce\n",
        "import math\n",
        "\n",
        "# Define a function to compute the GCD of two numbers\n",
        "def gcd(x, y):\n",
        "    return math.gcd(x, y)\n",
        "\n",
        "# Function to find the GCD of a list of numbers using reduce\n",
        "def list_gcd(numbers):\n",
        "    return reduce(gcd, numbers)\n",
        "\n",
        "# List of numbers\n",
        "numbers = [48, 64, 256, 1024]\n",
        "\n",
        "# Calculate the GCD of the list\n",
        "result = list_gcd(numbers)\n",
        "\n",
        "print(f\"The GCD of the list of numbers is: {result}\")\n",
        "\n"
      ],
      "metadata": {
        "colab": {
          "base_uri": "https://localhost:8080/"
        },
        "id": "Q87eIlgBAcLk",
        "outputId": "0e78409d-2e9d-42c0-eb8b-a783142dc8b6"
      },
      "execution_count": null,
      "outputs": [
        {
          "output_type": "stream",
          "name": "stdout",
          "text": [
            "The GCD of the list of numbers is: 16\n"
          ]
        }
      ]
    },
    {
      "cell_type": "markdown",
      "source": [
        "**Q7. Write a Python program that uses the `reduce()` function to find the sum of the digits of a given number.**"
      ],
      "metadata": {
        "id": "1ZwoXXyyAglY"
      }
    },
    {
      "cell_type": "code",
      "source": [
        "from functools import reduce\n",
        "\n",
        "# Define a function to sum two numbers\n",
        "def add(x, y):\n",
        "    return x + y\n",
        "\n",
        "# Function to find the sum of the digits of a number using reduce\n",
        "def sum_of_digits(n):\n",
        "    # Convert the number to a string and then to a list of integers\n",
        "    digits = [int(digit) for digit in str(n)]\n",
        "    # Use reduce to apply the add function cumulatively to the digits list\n",
        "    return reduce(add, digits)\n",
        "\n",
        "# Input number\n",
        "num = 12345  # You can change this value to any non-negative integer\n",
        "\n",
        "# Calculate the sum of the digits\n",
        "result = sum_of_digits(num)\n",
        "\n",
        "print(f\"The sum of the digits of {num} is: {result}\")\n"
      ],
      "metadata": {
        "colab": {
          "base_uri": "https://localhost:8080/"
        },
        "id": "EzpF3cdwAlEa",
        "outputId": "9eeae252-bd2a-43f2-f5dd-b358e019f7a4"
      },
      "execution_count": null,
      "outputs": [
        {
          "output_type": "stream",
          "name": "stdout",
          "text": [
            "The sum of the digits of 12345 is: 15\n"
          ]
        }
      ]
    },
    {
      "cell_type": "markdown",
      "source": [
        "# Filter:"
      ],
      "metadata": {
        "id": "lxXy0NBZAq-z"
      }
    },
    {
      "cell_type": "markdown",
      "source": [
        "**Q1. Explain the purpose of the `filter()` function in Python and provide an example of how it can be used to filter elements from an iterable**"
      ],
      "metadata": {
        "id": "CLjMtvp6Atsd"
      }
    },
    {
      "cell_type": "markdown",
      "source": [
        "***Answer*** <br>\n",
        "*The filter() function in Python is used to construct an iterator from elements of an iterable for which a function returns true. Essentially, filter() takes two arguments: a function and an iterable. It applies the function to each item in the iterable, and only those items for which the function returns True are included in the resulting iterator.*\n",
        "<br>**syntax:**\n",
        "                   <br> filter(function, iterable)\n"
      ],
      "metadata": {
        "id": "tign3TcTBQWl"
      }
    },
    {
      "cell_type": "code",
      "source": [
        "# Define a function that returns True if a number is even\n",
        "def is_even(num):\n",
        "    return num % 2 == 0\n",
        "\n",
        "# List of numbers\n",
        "numbers = [1, 2, 3, 4, 5, 6, 7, 8, 9, 10]\n",
        "\n",
        "# Use filter to get only even numbers from the list\n",
        "even_numbers = filter(is_even, numbers)\n",
        "\n",
        "# Convert the result to a list and print it\n",
        "even_numbers_list = list(even_numbers)\n",
        "print(even_numbers_list)\n"
      ],
      "metadata": {
        "colab": {
          "base_uri": "https://localhost:8080/"
        },
        "id": "R-Bg0sB9A23g",
        "outputId": "d9afd4af-bb48-4ca7-b6cc-be4717ecd4c2"
      },
      "execution_count": null,
      "outputs": [
        {
          "output_type": "stream",
          "name": "stdout",
          "text": [
            "[2, 4, 6, 8, 10]\n"
          ]
        }
      ]
    },
    {
      "cell_type": "markdown",
      "source": [
        "**Q2. Write a Python program that uses the `filter()` function to select even numbers from a list of integers**"
      ],
      "metadata": {
        "id": "OqA4Tv1RBxzm"
      }
    },
    {
      "cell_type": "code",
      "source": [
        "def is_even(number):\n",
        "    \"\"\"Check if a number is even.\"\"\"\n",
        "    return number % 2 == 0\n",
        "\n",
        "# Sample list of integers\n",
        "numbers = [1, 2, 3, 4, 5, 6, 7, 8, 9, 10]\n",
        "\n",
        "# Use filter() to select even numbers\n",
        "even_numbers = list(filter(is_even, numbers))\n",
        "\n",
        "# Print the list of even numbers\n",
        "print(even_numbers)\n"
      ],
      "metadata": {
        "colab": {
          "base_uri": "https://localhost:8080/"
        },
        "id": "5SOCZeD4XHdP",
        "outputId": "316df3cb-5be0-439d-b328-18ba4b07e8ce"
      },
      "execution_count": 1,
      "outputs": [
        {
          "output_type": "stream",
          "name": "stdout",
          "text": [
            "[2, 4, 6, 8, 10]\n"
          ]
        }
      ]
    },
    {
      "cell_type": "markdown",
      "source": [
        "**Q3. Create a Python program that uses the `filter()` function to select names that start with a specific letter from a list of strings.**"
      ],
      "metadata": {
        "id": "xFX_a_77XPnV"
      }
    },
    {
      "cell_type": "code",
      "source": [
        "def starts_with_letter(name, letter):\n",
        "    \"\"\"Check if a name starts with a specific letter.\"\"\"\n",
        "    return name.startswith(letter)\n",
        "\n",
        "# Sample list of names\n",
        "names = [\"Alice\", \"Bob\", \"Charlie\", \"David\", \"Eve\", \"Frank\"]\n",
        "\n",
        "# The specific letter to filter by\n",
        "specific_letter = 'A'\n",
        "\n",
        "# Use filter() to select names starting with the specific letter\n",
        "filtered_names = list(filter(lambda name: starts_with_letter(name, specific_letter), names))\n",
        "\n",
        "# Print the list of filtered names\n",
        "print(filtered_names)\n"
      ],
      "metadata": {
        "colab": {
          "base_uri": "https://localhost:8080/"
        },
        "id": "dpSCwwqaXOkt",
        "outputId": "8f5e5ad4-9a8f-4cf6-e487-13a75221c409"
      },
      "execution_count": 2,
      "outputs": [
        {
          "output_type": "stream",
          "name": "stdout",
          "text": [
            "['Alice']\n"
          ]
        }
      ]
    },
    {
      "cell_type": "markdown",
      "source": [
        "*Q4. Write a Python program that uses the `filter()` function to select prime numbers from a list of integers.**"
      ],
      "metadata": {
        "id": "sYKj16mDXZbV"
      }
    },
    {
      "cell_type": "code",
      "source": [
        "def is_prime(number):\n",
        "    \"\"\"Check if a number is prime.\"\"\"\n",
        "    if number <= 1:\n",
        "        return False\n",
        "    for i in range(2, int(number**0.5) + 1):\n",
        "        if number % i == 0:\n",
        "            return False\n",
        "    return True\n",
        "\n",
        "# Sample list of integers\n",
        "numbers = [2, 3, 4, 5, 6, 7, 8, 9, 10, 11, 12, 13, 14, 15, 16, 17, 18, 19, 20]\n",
        "\n",
        "# Use filter() to select prime numbers\n",
        "prime_numbers = list(filter(is_prime, numbers))\n",
        "\n",
        "# Print the list of prime numbers\n",
        "print(prime_numbers)\n"
      ],
      "metadata": {
        "colab": {
          "base_uri": "https://localhost:8080/"
        },
        "id": "JqxP6WIaXbUQ",
        "outputId": "a8079c40-4103-47a2-bd2f-1ae3479e5875"
      },
      "execution_count": 3,
      "outputs": [
        {
          "output_type": "stream",
          "name": "stdout",
          "text": [
            "[2, 3, 5, 7, 11, 13, 17, 19]\n"
          ]
        }
      ]
    },
    {
      "cell_type": "markdown",
      "source": [
        "**Q5. How can you use the `filter()` function to remove None values from a list in Python?**"
      ],
      "metadata": {
        "id": "tk8t3pj5Xfa5"
      }
    },
    {
      "cell_type": "code",
      "source": [
        "# Sample list with None values\n",
        "values = [1, 2, None, 4, None, 5, None, 6, 7, None]\n",
        "\n",
        "# Use filter() to remove None values\n",
        "filtered_values = list(filter(None, values))\n",
        "\n",
        "# Print the list without None values\n",
        "print(filtered_values)\n"
      ],
      "metadata": {
        "colab": {
          "base_uri": "https://localhost:8080/"
        },
        "id": "Rw5sv7iFX6lG",
        "outputId": "efc0d519-2099-4379-a4c7-29a2569e16f5"
      },
      "execution_count": 5,
      "outputs": [
        {
          "output_type": "stream",
          "name": "stdout",
          "text": [
            "[1, 2, 4, 5, 6, 7]\n"
          ]
        }
      ]
    },
    {
      "cell_type": "markdown",
      "source": [
        "**Q6. Create a Python program that uses `filter()` to select words longer than a certain length from a list of strings.**"
      ],
      "metadata": {
        "id": "vFKIzxOjXsEv"
      }
    },
    {
      "cell_type": "code",
      "source": [
        "def longer_than(word, length):\n",
        "    \"\"\"Check if a word is longer than a specific length.\"\"\"\n",
        "    return len(word) > length\n",
        "\n",
        "# Sample list of words\n",
        "words = [\"apple\", \"banana\", \"cherry\", \"date\", \"fig\", \"grape\"]\n",
        "\n",
        "# The specific length to filter by\n",
        "specific_length = 4\n",
        "\n",
        "# Use filter() to select words longer than the specific length\n",
        "filtered_words = list(filter(lambda word: longer_than(word, specific_length), words))\n",
        "\n",
        "# Print the list of filtered words\n",
        "print(filtered_words)\n"
      ],
      "metadata": {
        "colab": {
          "base_uri": "https://localhost:8080/"
        },
        "id": "-pHwLxW0YHf_",
        "outputId": "86571806-335c-4951-f718-e9064fc4ca87"
      },
      "execution_count": 6,
      "outputs": [
        {
          "output_type": "stream",
          "name": "stdout",
          "text": [
            "['apple', 'banana', 'cherry', 'grape']\n"
          ]
        }
      ]
    },
    {
      "cell_type": "markdown",
      "source": [
        "**Q7. Write a Python program that uses the `filter()` function to select elements greater than a specified threshold from a list of values.**"
      ],
      "metadata": {
        "id": "KN83bfaRYJen"
      }
    },
    {
      "cell_type": "code",
      "source": [
        "def greater_than(value, threshold):\n",
        "    \"\"\"Check if a value is greater than a specific threshold.\"\"\"\n",
        "    return value > threshold\n",
        "\n",
        "# Sample list of values\n",
        "values = [10, 15, 20, 25, 30, 35, 40, 45, 50]\n",
        "\n",
        "# The specific threshold to filter by\n",
        "threshold = 25\n",
        "\n",
        "# Use filter() to select values greater than the specified threshold\n",
        "filtered_values = list(filter(lambda x: greater_than(x, threshold), values))\n",
        "\n",
        "# Print the list of filtered values\n",
        "print(filtered_values)\n"
      ],
      "metadata": {
        "colab": {
          "base_uri": "https://localhost:8080/"
        },
        "id": "czolFdFEYXhp",
        "outputId": "2638f109-4a1c-45cf-f102-94d7daa86dd0"
      },
      "execution_count": 7,
      "outputs": [
        {
          "output_type": "stream",
          "name": "stdout",
          "text": [
            "[30, 35, 40, 45, 50]\n"
          ]
        }
      ]
    },
    {
      "cell_type": "markdown",
      "source": [
        "# Recursion:"
      ],
      "metadata": {
        "id": "m0PJZinQYZAr"
      }
    },
    {
      "cell_type": "markdown",
      "source": [
        "**Q1. Explain the concept of recursion in Python. How does it differ from iteration?**"
      ],
      "metadata": {
        "id": "gbU49mBiYcrn"
      }
    },
    {
      "cell_type": "markdown",
      "source": [
        "***Answer:**\n",
        "<br>\n",
        "Recursion is a programming technique where a function calls itself directly or indirectly in order to solve a problem. The recursive function usually has the following characteristics:\n",
        "\n",
        "Base Case: This is the condition under which the function stops calling itself, thus preventing an infinite loop.<br>\n",
        "Recursive Case: This is the part of the function where it calls itself with a modified argument, moving toward the base case.\n",
        "\n",
        "<br>\n",
        "<style>\n",
        ".h{\n",
        "  color: red;\n",
        "}\n",
        "</style>\n",
        "<br>\n",
        "<p class = \"h\">Example.</p>"
      ],
      "metadata": {
        "id": "DOBSPextYwXm"
      }
    },
    {
      "cell_type": "code",
      "source": [
        "def factorial(n):\n",
        "    # Base case: factorial of 0 or 1 is 1\n",
        "    if n == 0 or n == 1:\n",
        "        return 1\n",
        "    # Recursive case: n! = n * (n-1)!\n",
        "    else:\n",
        "        return n * factorial(n-1)\n",
        "\n",
        "# Test the function\n",
        "print(factorial(5))  # Output: 120\n"
      ],
      "metadata": {
        "colab": {
          "base_uri": "https://localhost:8080/"
        },
        "id": "zgsFmmxvYoH8",
        "outputId": "9b2addce-e765-4ce3-f07b-3225f44d5ba8"
      },
      "execution_count": 8,
      "outputs": [
        {
          "output_type": "stream",
          "name": "stdout",
          "text": [
            "120\n"
          ]
        }
      ]
    },
    {
      "cell_type": "markdown",
      "source": [
        "**Differences Between Recursion and Iteration\n",
        "Definition:**\n",
        "\n",
        "**Recursion**: A function that calls itself to solve smaller instances of the same problem.<br>\n",
        "**Iteration:** A loop structure (for, while) that repeatedly executes a block of code until a condition is met.\n",
        "<br>\n",
        "**State and Memory:***\n",
        "\n",
        "Recursion: Each recursive call creates a new execution context in the call stack, which includes the function's parameters and local variables. This can lead to high memory usage if the recursion depth is large.<br>\n",
        "Iteration: Uses a single execution context and typically involves variables that are updated in each iteration. This is generally more memory-efficient.<br>\n",
        "***Base Case vs. Loop Condition:***\n",
        "\n",
        "Recursion: Requires a base case to terminate the recursive calls.\n",
        "Iteration: Requires a loop condition to terminate the loop.<br>\n",
        "***Complexity and Readability:***\n",
        "\n",
        "<b>Recursion: Can make code more readable and elegant, especially for problems that have a natural recursive structure (e.g., tree traversal, factorial, Fibonacci sequence).<br>\n",
        "<B>Iteration: Can be more straightforward and easier to understand for simple loops and when performance or memory is a concern.\n",
        "Performance:\n",
        "\n",
        "<b>Recursion:</b> Can be slower due to the overhead of multiple function calls and can lead to stack overflow if the recursion depth is too high.<br>\n",
        "Iteration: Typically faster and does not suffer from stack overflow issues."
      ],
      "metadata": {
        "id": "4mWWPv1XaD4g"
      }
    },
    {
      "cell_type": "markdown",
      "source": [
        "**Q2. Write a Python program to calculate the factorial of a number using recursion.**"
      ],
      "metadata": {
        "id": "t-eqvgxxaFz3"
      }
    },
    {
      "cell_type": "code",
      "source": [
        "def factorial(n):\n",
        "    # Base case: factorial of 0 or 1 is 1\n",
        "    if n == 0 or n == 1:\n",
        "        return 1\n",
        "    # Recursive case: n! = n * (n-1)!\n",
        "    else:\n",
        "        return n * factorial(n-1)\n",
        "\n",
        "# Input: Get the number from the user\n",
        "number = int(input(\"Enter a number to calculate its factorial: \"))\n",
        "\n",
        "# Calculate factorial using the recursive function\n",
        "result = factorial(number)\n",
        "\n",
        "# Output: Print the result\n",
        "print(f\"The factorial of {number} is {result}\")\n"
      ],
      "metadata": {
        "colab": {
          "base_uri": "https://localhost:8080/"
        },
        "id": "vns4JxqnbTgc",
        "outputId": "f2a2d95d-0762-430e-9b29-866be5f25ceb"
      },
      "execution_count": 9,
      "outputs": [
        {
          "output_type": "stream",
          "name": "stdout",
          "text": [
            "Enter a number to calculate its factorial: 4\n",
            "The factorial of 4 is 24\n"
          ]
        }
      ]
    },
    {
      "cell_type": "markdown",
      "source": [
        "**Q3. Create a recursive Python function to find the nth Fibonacci number.**"
      ],
      "metadata": {
        "id": "AAHDq01cbcWz"
      }
    },
    {
      "cell_type": "code",
      "source": [
        "def fibonacci(n):\n",
        "    # Base cases\n",
        "    if n == 0:\n",
        "        return 0\n",
        "    elif n == 1:\n",
        "        return 1\n",
        "    # Recursive case\n",
        "    else:\n",
        "        return fibonacci(n-1) + fibonacci(n-2)\n",
        "\n",
        "# Input: Get the number (n) from the user\n",
        "number = int(input(\"Enter a number to find its Fibonacci number: \"))\n",
        "\n",
        "# Calculate Fibonacci number using the recursive function\n",
        "result = fibonacci(number)\n",
        "\n",
        "# Output: Print the result\n",
        "print(f\"The Fibonacci number at position {number} is {result}\")\n"
      ],
      "metadata": {
        "colab": {
          "base_uri": "https://localhost:8080/"
        },
        "id": "rRCvO2dzbpiJ",
        "outputId": "40ca948a-b70b-4e32-fb3b-3840eb7cd33e"
      },
      "execution_count": 10,
      "outputs": [
        {
          "output_type": "stream",
          "name": "stdout",
          "text": [
            "Enter a number to find its Fibonacci number: 12\n",
            "The Fibonacci number at position 12 is 144\n"
          ]
        }
      ]
    },
    {
      "cell_type": "markdown",
      "source": [
        "**Q4. Write a recursive Python function to calculate the sum of all elements in a list.**"
      ],
      "metadata": {
        "id": "uoCJEakqbvxt"
      }
    },
    {
      "cell_type": "code",
      "source": [
        "def sum_list(lst):\n",
        "    # Base case: empty list has sum of 0\n",
        "    if not lst:\n",
        "        return 0\n",
        "    # Recursive case: sum of current element + sum of rest of the list\n",
        "    else:\n",
        "        return lst[0] + sum_list(lst[1:])\n",
        "\n",
        "# Example list\n",
        "numbers = [1, 2, 3, 4, 5]\n",
        "\n",
        "# Calculate the sum using the recursive function\n",
        "result = sum_list(numbers)\n",
        "\n",
        "# Print the result\n",
        "print(f\"The sum of elements in the list is: {result}\")\n",
        "\n"
      ],
      "metadata": {
        "colab": {
          "base_uri": "https://localhost:8080/"
        },
        "id": "2GTPxt4Mb3dr",
        "outputId": "340f2106-a6b0-431c-fcb1-ae0a90c60e0c"
      },
      "execution_count": 11,
      "outputs": [
        {
          "output_type": "stream",
          "name": "stdout",
          "text": [
            "The sum of elements in the list is: 15\n"
          ]
        }
      ]
    },
    {
      "cell_type": "markdown",
      "source": [
        "**Q5. How can you prevent a recursive function from running indefinitely, causing a stack overflow error?**"
      ],
      "metadata": {
        "id": "N7yh-N9Xb75X"
      }
    },
    {
      "cell_type": "markdown",
      "source": [
        "***Answer***<br>\n",
        "To prevent a recursive function from running indefinitely and causing a stack overflow error, you can ensure that your recursive function has a well-defined termination condition, often referred to as a base case. Here are some strategies to prevent infinite recursion:<br>\n",
        "1. base case\n",
        "2. Ensure Progress Towards the Base Case\n",
        "3. Guard Clauses\n",
        "4. Debugging and Testing"
      ],
      "metadata": {
        "id": "7is8T6nEcDG1"
      }
    },
    {
      "cell_type": "markdown",
      "source": [
        "**Q6. Create a recursive Python function to find the greatest common divisor (GCD) of two numbers using the Euclidean algorithm.\n"
      ],
      "metadata": {
        "id": "mBitFfPgchcl"
      }
    },
    {
      "cell_type": "code",
      "source": [
        "def gcd(a, b):\n",
        "    # Base case\n",
        "    if b == 0:\n",
        "        return a\n",
        "    # Recursive case\n",
        "    else:\n",
        "        return gcd(b, a % b)\n",
        "\n",
        "# Example usage\n",
        "num1 = 48\n",
        "num2 = 18\n",
        "\n",
        "# Calculate the GCD using the recursive function\n",
        "result = gcd(num1, num2)\n",
        "\n",
        "# Print the result\n",
        "print(f\"The GCD of {num1} and {num2} is: {result}\")\n"
      ],
      "metadata": {
        "colab": {
          "base_uri": "https://localhost:8080/"
        },
        "id": "hmHiGEOUcstN",
        "outputId": "026bcece-b333-47a9-d773-69b9cbb8759e"
      },
      "execution_count": 12,
      "outputs": [
        {
          "output_type": "stream",
          "name": "stdout",
          "text": [
            "The GCD of 48 and 18 is: 6\n"
          ]
        }
      ]
    },
    {
      "cell_type": "markdown",
      "source": [
        "**Q7. Write a recursive Python function to reverse a string.**"
      ],
      "metadata": {
        "id": "6VtATGapdAzi"
      }
    },
    {
      "cell_type": "code",
      "source": [
        "def reverse_string(input_str):\n",
        "    \"\"\"Return the reversed string using recursion.\"\"\"\n",
        "    # Base case: if the string is empty or has only one character, return itself\n",
        "    if len(input_str) <= 1:\n",
        "        return input_str\n",
        "    # Recursive case: concatenate the last character with the reversed substring\n",
        "    else:\n",
        "        return input_str[-1] + reverse_string(input_str[:-1])\n",
        "\n",
        "# Example usage\n",
        "input_string = \"Hello, World!\"\n",
        "\n",
        "# Reverse the string using the recursive function\n",
        "reversed_string = reverse_string(input_string)\n",
        "\n",
        "# Print the result\n",
        "print(f\"The reversed string is: {reversed_string}\")\n"
      ],
      "metadata": {
        "colab": {
          "base_uri": "https://localhost:8080/"
        },
        "id": "6zNBUmY1dBPk",
        "outputId": "ba9a3607-dcff-4fbb-f131-43a977bc1161"
      },
      "execution_count": 13,
      "outputs": [
        {
          "output_type": "stream",
          "name": "stdout",
          "text": [
            "The reversed string is: !dlroW ,olleH\n"
          ]
        }
      ]
    },
    {
      "cell_type": "markdown",
      "source": [
        "**Q8. Create a recursive Python function to calculate the power of a number (x^n).**"
      ],
      "metadata": {
        "id": "YRJcMTuRdHN_"
      }
    },
    {
      "cell_type": "code",
      "source": [
        "def power(x, n):\n",
        "    \"\"\"Return x raised to the power of n using recursion.\"\"\"\n",
        "    # Base case: any number raised to the power of 0 is 1\n",
        "    if n == 0:\n",
        "        return 1\n",
        "    # Recursive case: x^n = x * x^(n-1)\n",
        "    else:\n",
        "        return x * power(x, n-1)\n",
        "\n",
        "# Example usage\n",
        "base = 2\n",
        "exponent = 5\n",
        "\n",
        "# Calculate the power using the recursive function\n",
        "result = power(base, exponent)\n",
        "\n",
        "# Print the result\n",
        "print(f\"{base} raised to the power of {exponent} is: {result}\")\n"
      ],
      "metadata": {
        "colab": {
          "base_uri": "https://localhost:8080/"
        },
        "id": "Xg9A6gu_dLoK",
        "outputId": "8b3e378e-f105-44d0-b07e-12a96441aacf"
      },
      "execution_count": 15,
      "outputs": [
        {
          "output_type": "stream",
          "name": "stdout",
          "text": [
            "2 raised to the power of 5 is: 32\n"
          ]
        }
      ]
    },
    {
      "cell_type": "markdown",
      "source": [
        "**Q9. Write a recursive Python function to find all permutations of a given string.**\n"
      ],
      "metadata": {
        "id": "WxKo1LvHdP_w"
      }
    },
    {
      "cell_type": "code",
      "source": [
        "def permutations(string):\n",
        "    \"\"\"Return a list of all permutations of a given string using recursion.\"\"\"\n",
        "    if len(string) <= 1:\n",
        "        return [string]  # Base case: return the string itself as a list\n",
        "\n",
        "    # Recursive case: generate permutations\n",
        "    perms = []\n",
        "    for i, char in enumerate(string):\n",
        "        for perm in permutations(string[:i] + string[i+1:]):\n",
        "            perms.append(char + perm)\n",
        "    return perms\n",
        "\n",
        "# Example usage\n",
        "input_string = \"abc\"\n",
        "\n",
        "# Get all permutations using the recursive function\n",
        "result = permutations(input_string)\n",
        "\n",
        "# Print the result\n",
        "print(f\"All permutations of '{input_string}': {result}\")\n"
      ],
      "metadata": {
        "colab": {
          "base_uri": "https://localhost:8080/"
        },
        "id": "g2Y3tblsdWKP",
        "outputId": "bcafc7b8-b1ab-4af2-af2c-c9fb1882f649"
      },
      "execution_count": 16,
      "outputs": [
        {
          "output_type": "stream",
          "name": "stdout",
          "text": [
            "All permutations of 'abc': ['abc', 'acb', 'bac', 'bca', 'cab', 'cba']\n"
          ]
        }
      ]
    },
    {
      "cell_type": "markdown",
      "source": [
        "**q10. Write a recursive Python function to check if a string is a palindrome.**"
      ],
      "metadata": {
        "id": "MpPRzIOndYUf"
      }
    },
    {
      "cell_type": "code",
      "source": [
        "def is_palindrome(s):\n",
        "    \"\"\"Return True if the given string s is a palindrome, False otherwise.\"\"\"\n",
        "    s = s.lower()  # Convert string to lowercase for case-insensitive comparison\n",
        "    if len(s) <= 1:\n",
        "        return True  # Base case: an empty string or single character is a palindrome\n",
        "    elif s[0] != s[-1]:\n",
        "        return False  # If the first and last characters are different, it's not a palindrome\n",
        "    else:\n",
        "        return is_palindrome(s[1:-1])  # Recursive case: check the substring excluding the first and last characters\n",
        "\n",
        "# Example usage\n",
        "test_string1 = \"racecar\"\n",
        "test_string2 = \"hello\"\n",
        "\n",
        "# Check if strings are palindromes using the recursive function\n",
        "print(f\"Is '{test_string1}' a palindrome? {is_palindrome(test_string1)}\")\n",
        "print(f\"Is '{test_string2}' a palindrome? {is_palindrome(test_string2)}\")\n"
      ],
      "metadata": {
        "colab": {
          "base_uri": "https://localhost:8080/"
        },
        "id": "d_uoz8e8dmsR",
        "outputId": "2dfbce67-45b1-4735-89e7-e0e78d76da8b"
      },
      "execution_count": 17,
      "outputs": [
        {
          "output_type": "stream",
          "name": "stdout",
          "text": [
            "Is 'racecar' a palindrome? True\n",
            "Is 'hello' a palindrome? False\n"
          ]
        }
      ]
    },
    {
      "cell_type": "markdown",
      "source": [
        "**Q11. Create a recursive Python function to generate all possible combinations of a list of elements.**"
      ],
      "metadata": {
        "id": "ZRipBPzbdpZg"
      }
    },
    {
      "cell_type": "code",
      "source": [
        "def combinations(elements):\n",
        "    \"\"\"Generate all possible combinations of elements from a list using recursion.\"\"\"\n",
        "    result = []\n",
        "\n",
        "    # Recursive helper function to generate combinations\n",
        "    def generate_combinations(current_combination, remaining_elements):\n",
        "        if len(current_combination) == len(elements):  # Base case: all elements are chosen\n",
        "            result.append(current_combination)\n",
        "            return\n",
        "        if remaining_elements:\n",
        "            # Include the next element in the current combination and recurse\n",
        "            generate_combinations(current_combination + [remaining_elements[0]], remaining_elements[1:])\n",
        "            # Exclude the next element and recurse\n",
        "            generate_combinations(current_combination, remaining_elements[1:])\n",
        "\n",
        "    generate_combinations([], elements)\n",
        "    return result\n",
        "\n",
        "# Example usage\n",
        "input_elements = [1, 2, 3]\n",
        "\n",
        "# Generate all combinations using the recursive function\n",
        "result = combinations(input_elements)\n",
        "\n",
        "# Print the result\n",
        "print(f\"All combinations of {input_elements}: {result}\")\n"
      ],
      "metadata": {
        "colab": {
          "base_uri": "https://localhost:8080/"
        },
        "id": "jjDi4XCDdsNz",
        "outputId": "c12413c5-32c1-4778-caab-4fa7f28e13af"
      },
      "execution_count": 18,
      "outputs": [
        {
          "output_type": "stream",
          "name": "stdout",
          "text": [
            "All combinations of [1, 2, 3]: [[1, 2, 3]]\n"
          ]
        }
      ]
    },
    {
      "cell_type": "markdown",
      "source": [
        "# Basics of Functions:"
      ],
      "metadata": {
        "id": "TTjjhtTLdv9O"
      }
    },
    {
      "cell_type": "markdown",
      "source": [
        "**Q1. What is a function in Python, and why is it used?**"
      ],
      "metadata": {
        "id": "DdmTMJbCdw2Z"
      }
    },
    {
      "cell_type": "markdown",
      "source": [
        "***Answer***<br>\n",
        "In Python, a function is a block of organized, reusable code that is used to perform a single, specific task. Functions provide a way to structure your code into manageable blocks, making it easier to read, understand, and maintain.\n",
        "<br>\n",
        "Functions are Used because of:<br>\n",
        "1. modularity\n",
        "2. Code Reusability\n",
        "3. Abstraction\n",
        "4. Readability\n",
        "\n"
      ],
      "metadata": {
        "id": "F_nfwH3AeKan"
      }
    },
    {
      "cell_type": "markdown",
      "source": [
        "**Q2. ow do you define a function in Python? Provide an example.**"
      ],
      "metadata": {
        "id": "i1zTqyaEeraa"
      }
    },
    {
      "cell_type": "markdown",
      "source": [
        "***Answer*** <br>\n",
        "In Python, you define a function using the **def** keyword followed by the function name and parentheses **'( )'**.\n",
        "\n",
        "     def function_name(parameters):\n",
        "        # Function body (code block)\n",
        "       # Statements to perform tasks\n",
        "       return [expression]  # Optional return statement\n"
      ],
      "metadata": {
        "id": "S7EhgZOwe01L"
      }
    },
    {
      "cell_type": "code",
      "source": [
        "def factorial(n):\n",
        "    \"\"\"Calculate the factorial of a number.\"\"\"\n",
        "    if n == 0 or n == 1:\n",
        "        return 1\n",
        "    else:\n",
        "        return n * factorial(n-1)\n",
        "\n",
        "# Example usage\n",
        "number = 5\n",
        "fact = factorial(number)\n",
        "print(f\"The factorial of {number} is {fact}\")\n"
      ],
      "metadata": {
        "colab": {
          "base_uri": "https://localhost:8080/"
        },
        "id": "P0eUYks4fYVg",
        "outputId": "113c58a1-9de3-4313-a70c-698e3fcb5eaa"
      },
      "execution_count": 19,
      "outputs": [
        {
          "output_type": "stream",
          "name": "stdout",
          "text": [
            "The factorial of 5 is 120\n"
          ]
        }
      ]
    },
    {
      "cell_type": "markdown",
      "source": [
        "**Q3. Explain the difference between a function definition and a function call.**"
      ],
      "metadata": {
        "id": "JnQ4PjI4fina"
      }
    },
    {
      "cell_type": "markdown",
      "source": [
        "***Answer:***<br>\n",
        "**Function Definition:** Defines the structure and behavior of a function, including its name, parameters, and operations.<br>\n",
        "**Function Call:** Invokes the function to execute its defined behavior, using its name followed by parentheses and providing any required arguments.\n",
        "\n",
        "\n",
        "\n",
        "\n",
        "\n"
      ],
      "metadata": {
        "id": "Xe4g4UjZfriu"
      }
    },
    {
      "cell_type": "code",
      "source": [
        "# Function definition\n",
        "def greet(name):\n",
        "    print(f\"Hello, {name}!\")\n",
        "\n",
        "# Function call below\n",
        "greet(\"Alice\")\n"
      ],
      "metadata": {
        "colab": {
          "base_uri": "https://localhost:8080/"
        },
        "id": "MmVCe5nAf1YL",
        "outputId": "a3c80791-8972-4c12-f55b-bd99be8ee3cc"
      },
      "execution_count": 20,
      "outputs": [
        {
          "output_type": "stream",
          "name": "stdout",
          "text": [
            "Hello, Alice!\n"
          ]
        }
      ]
    },
    {
      "cell_type": "markdown",
      "source": [
        "**Q4. Write a Python program that defines a function to calculate the sum of two numbers and then calls the function**"
      ],
      "metadata": {
        "id": "aYANJHQZgEa9"
      }
    },
    {
      "cell_type": "code",
      "source": [
        "def calculate_sum(a, b):\n",
        "    \"\"\"Function to calculate the sum of two numbers.\"\"\"\n",
        "    return a + b\n",
        "\n",
        "# Example usage: calling the function\n",
        "num1 = 3\n",
        "num2 = 7\n",
        "result = calculate_sum(num1, num2)\n",
        "\n",
        "# Print the result\n",
        "print(f\"The sum of {num1} and {num2} is: {result}\")\n"
      ],
      "metadata": {
        "colab": {
          "base_uri": "https://localhost:8080/"
        },
        "id": "-AKHE8JcgLvA",
        "outputId": "792d63df-ca0a-4a46-9d10-989cca8a3529"
      },
      "execution_count": 21,
      "outputs": [
        {
          "output_type": "stream",
          "name": "stdout",
          "text": [
            "The sum of 3 and 7 is: 10\n"
          ]
        }
      ]
    },
    {
      "cell_type": "markdown",
      "source": [],
      "metadata": {
        "id": "Fojfub9Kgag6"
      }
    },
    {
      "cell_type": "markdown",
      "source": [
        "***Answer***<br>\n",
        "A function signature in programming typically includes the function's name, parameters with their types (if applicable), return type, and possibly exception handling details in statically typed languages:\n",
        "\n",
        "1. **Function Name:** Identifies the function uniquely within the program.\n",
        "2. **Parameters:** Inputs that the function expects, including their names and types.\n",
        "3. **Return Type:** Data type of the value the function returns to its caller.\n",
        "4. **Exception Handling:** Optional details about exceptions the function can raise or handle in statically typed languages."
      ],
      "metadata": {
        "id": "u0hg4xPWga9I"
      }
    },
    {
      "cell_type": "markdown",
      "source": [
        "**Q6. Create a Python function that takes two arguments and returns their product.**"
      ],
      "metadata": {
        "id": "1lkQcp4Rgup0"
      }
    },
    {
      "cell_type": "code",
      "source": [
        "def calculate_product(a, b):\n",
        "    \"\"\"Calculate the product of two numbers.\"\"\"\n",
        "    return a * b\n",
        "\n",
        "# Example usage\n",
        "num1 = 4\n",
        "num2 = 7\n",
        "result = calculate_product(num1, num2)\n",
        "\n",
        "# Print the result\n",
        "print(f\"The product of {num1} and {num2} is: {result}\")\n"
      ],
      "metadata": {
        "colab": {
          "base_uri": "https://localhost:8080/"
        },
        "id": "fqWtafpsg2oM",
        "outputId": "3d880488-a526-4c0a-b2f1-5f0c8d57f082"
      },
      "execution_count": 22,
      "outputs": [
        {
          "output_type": "stream",
          "name": "stdout",
          "text": [
            "The product of 4 and 7 is: 28\n"
          ]
        }
      ]
    },
    {
      "cell_type": "markdown",
      "source": [
        "# Fnction Parameters and Arguments:"
      ],
      "metadata": {
        "id": "hzyhP5zAg3zI"
      }
    },
    {
      "cell_type": "markdown",
      "source": [
        "**Q1. Explain the concepts of formal parameters and actual arguments in Python functions.**"
      ],
      "metadata": {
        "id": "v4hBa89Xg85y"
      }
    },
    {
      "cell_type": "markdown",
      "source": [
        "***Answer***<br>\n",
        "In Python functions:\n",
        "\n",
        "Formal Parameters are placeholders defined in the function header, specifying the type and order of expected inputs.\n",
        "\n",
        "Actual Arguments are the values passed to the function during its invocation, matching the defined formal parameters.\n",
        "\n"
      ],
      "metadata": {
        "id": "qdkGTueRhFYY"
      }
    },
    {
      "cell_type": "markdown",
      "source": [
        "**Q2. Write a Python program that defines a function with default argument values.**"
      ],
      "metadata": {
        "id": "4K9rv268hUMa"
      }
    },
    {
      "cell_type": "code",
      "source": [
        "# Define a function with default argument values\n",
        "def greet(name=\"Guest\", message=\"Hello\"):\n",
        "    print(f\"{message}, {name}!\")\n",
        "\n",
        "# Call the function with default arguments\n",
        "greet()  # Output: Hello, Guest!\n",
        "greet(\"Alice\")  # Output: Hello, Alice!\n",
        "greet(\"Bob\", \"Good morning\")  # Output: Good morning, Bob!\n"
      ],
      "metadata": {
        "colab": {
          "base_uri": "https://localhost:8080/"
        },
        "id": "1RR5cFashxn6",
        "outputId": "fa5b2508-f2b7-45ac-e9ba-316b7002994f"
      },
      "execution_count": 23,
      "outputs": [
        {
          "output_type": "stream",
          "name": "stdout",
          "text": [
            "Hello, Guest!\n",
            "Hello, Alice!\n",
            "Good morning, Bob!\n"
          ]
        }
      ]
    },
    {
      "cell_type": "markdown",
      "source": [
        "**Q3. How do you use keyword arguments in Python function calls? Provide an example.**"
      ],
      "metadata": {
        "id": "2EoDFSDjhzT8"
      }
    },
    {
      "cell_type": "markdown",
      "source": [
        "***Answer***<br>\n",
        "you can use keyword arguments to specify arguments by parameter name when calling a function. This allows you to provide arguments in any order, as long as you explicitly name the parameters"
      ],
      "metadata": {
        "id": "KvocAGedh-fT"
      }
    },
    {
      "cell_type": "code",
      "source": [
        "# Define a function that accepts keyword arguments\n",
        "def greet(name, message):\n",
        "    print(f\"{message}, {name}!\")\n",
        "\n",
        "# Call the function using keyword arguments\n",
        "greet(name=\"Alice\", message=\"Hello\")  # Output: Hello, Alice!\n",
        "greet(message=\"Good morning\", name=\"Bob\")  # Output: Good morning, Bob!\n"
      ],
      "metadata": {
        "colab": {
          "base_uri": "https://localhost:8080/"
        },
        "id": "M__2zhsYh1qB",
        "outputId": "1f26ba91-51f7-4c94-9698-c6a9827d7364"
      },
      "execution_count": 24,
      "outputs": [
        {
          "output_type": "stream",
          "name": "stdout",
          "text": [
            "Hello, Alice!\n",
            "Good morning, Bob!\n"
          ]
        }
      ]
    },
    {
      "cell_type": "markdown",
      "source": [
        "**Q4. Create a Python function that accepts a variable number of arguments and calculates their sum.**"
      ],
      "metadata": {
        "id": "oSvJUi19iHml"
      }
    },
    {
      "cell_type": "code",
      "source": [
        "def calculate_sum(*args):\n",
        "    total = 0\n",
        "    for num in args:\n",
        "        total += num\n",
        "    return total\n",
        "\n",
        "# Example usage:\n",
        "result1 = calculate_sum(1, 2, 3, 4, 5)\n",
        "print(f\"Sum: {result1}\")  # Output: Sum: 15\n",
        "\n",
        "result2 = calculate_sum(10, 20, 30)\n",
        "print(f\"Sum: {result2}\")  # Output: Sum: 60\n",
        "\n",
        "result3 = calculate_sum(2.5, 3.5, 4.5, 5.5)\n",
        "print(f\"Sum: {result3}\")  # Output: Sum: 16.0\n"
      ],
      "metadata": {
        "colab": {
          "base_uri": "https://localhost:8080/"
        },
        "id": "ZQSe4G23iuHz",
        "outputId": "a09eb47e-c92c-4b4d-a1b8-75e15a87c369"
      },
      "execution_count": 25,
      "outputs": [
        {
          "output_type": "stream",
          "name": "stdout",
          "text": [
            "Sum: 15\n",
            "Sum: 60\n",
            "Sum: 16.0\n"
          ]
        }
      ]
    },
    {
      "cell_type": "markdown",
      "source": [
        "**Q5. What is the purpose of the `*args` and `**kwargs` syntax in function parameter lists?**"
      ],
      "metadata": {
        "id": "HiNc9qb2ixWY"
      }
    },
    {
      "cell_type": "markdown",
      "source": [
        "***Answer***<br>\n",
        "**args allows a function to accept a variable number of positional arguments, which are captured as a tuple.<br>\n",
        "****kwargs allows a function to accept a variable number of keyword arguments, which are captured as a dictionary."
      ],
      "metadata": {
        "id": "kncVr0o_jAVH"
      }
    },
    {
      "cell_type": "code",
      "source": [
        "#Example of *args\n",
        "def my_function(*args):\n",
        "    for arg in args:\n",
        "        print(arg)\n",
        "\n",
        "my_function(1, 2, 3)\n",
        "my_function('a', 'b', 'c', 'd')\n"
      ],
      "metadata": {
        "id": "d0goUCNFjJ7y"
      },
      "execution_count": null,
      "outputs": []
    },
    {
      "cell_type": "code",
      "source": [
        "#example of **args\n",
        "def my_function(**kwargs):\n",
        "    for key, value in kwargs.items():\n",
        "        print(f\"{key}: {value}\")\n",
        "\n",
        "my_function(a=1, b=2, c=3)  # Output: a: 1, b: 2, c: 3\n",
        "my_function(name='Alice', age=30, city='New York')  # Output: name: Alice, age: 30, city: New York\n"
      ],
      "metadata": {
        "colab": {
          "base_uri": "https://localhost:8080/"
        },
        "id": "SDU-0i-PjTt-",
        "outputId": "1ca07a6c-3988-406b-c135-66390f98d88a"
      },
      "execution_count": 26,
      "outputs": [
        {
          "output_type": "stream",
          "name": "stdout",
          "text": [
            "a: 1\n",
            "b: 2\n",
            "c: 3\n",
            "name: Alice\n",
            "age: 30\n",
            "city: New York\n"
          ]
        }
      ]
    },
    {
      "cell_type": "markdown",
      "source": [
        "# Return Values and Scoping:"
      ],
      "metadata": {
        "id": "y47l1CXujeSI"
      }
    },
    {
      "cell_type": "markdown",
      "source": [
        "**Q1. Describe the role of the `return` statement in Python functions and provide examples.**"
      ],
      "metadata": {
        "id": "F71lXHRMjkKL"
      }
    },
    {
      "cell_type": "markdown",
      "source": [
        "***Answer***<br>\n",
        "The return statement in Python functions serves the role of specifying the value that a function should send back as the result of calling that function\n",
        "<br>\n",
        "<br>\n",
        "***Role of return Statement:***<br>\n",
        "Returning Values: It allows a function to compute a result and send it back to the caller. This returned value can then be assigned to a variable or used in further computations.\n",
        "\n",
        "Exiting Early: When encountered, return immediately exits the function, bypassing any remaining code in the function body.\n",
        "\n",
        "Multiple Returns: Functions can have multiple return statements to return different values based on conditions within the function.\n",
        "\n",
        "**Example**"
      ],
      "metadata": {
        "id": "DBjRe2wujtn1"
      }
    },
    {
      "cell_type": "code",
      "source": [
        "def add_numbers(a, b):\n",
        "    return a + b\n",
        "\n",
        "result = add_numbers(3, 5)\n",
        "print(result)\n"
      ],
      "metadata": {
        "colab": {
          "base_uri": "https://localhost:8080/"
        },
        "id": "ykdzgqHxj_om",
        "outputId": "02871d44-8474-4312-bc10-4e210cb0897e"
      },
      "execution_count": 27,
      "outputs": [
        {
          "output_type": "stream",
          "name": "stdout",
          "text": [
            "8\n"
          ]
        }
      ]
    },
    {
      "cell_type": "markdown",
      "source": [
        "**Q2. Explain the concept of variable scope in Python, including local and global variables**"
      ],
      "metadata": {
        "id": "lFD6sqH8j_C-"
      }
    },
    {
      "cell_type": "markdown",
      "source": [
        "***Answer***<br>\n",
        "Variable scope in Python refers to the region or context in a program where a particular variable can be accessed or referenced.<br>\n",
        "There are two variable scope in python\n",
        "1. **Local Variables:**Variables defined inside a function are considered local to that function. They can only be accessed within the function where they are defined.<br><br>\n",
        "2. **Global Variables:**Variables defined outside of any function or in the global scope are considered global variables. They can be accessed and modified throughout the entire program, including inside functions."
      ],
      "metadata": {
        "id": "nWUOU_M1kQdI"
      }
    },
    {
      "cell_type": "code",
      "source": [
        "x = 10  # Global variable\n",
        "\n",
        "def my_function():\n",
        "  y = 5  # Local variable\n",
        "  print(y)  # Accessing local variable\n",
        "  print(x)  # Accessing global variable\n",
        "\n",
        "my_function()\n"
      ],
      "metadata": {
        "colab": {
          "base_uri": "https://localhost:8080/"
        },
        "id": "8Y9jwOFElDns",
        "outputId": "03ec61d5-27da-440a-b718-2b0394cae13b"
      },
      "execution_count": 29,
      "outputs": [
        {
          "output_type": "stream",
          "name": "stdout",
          "text": [
            "5\n",
            "10\n"
          ]
        }
      ]
    },
    {
      "cell_type": "markdown",
      "source": [
        "**Q3. Write a Python program that demonstrates the use of global variables within functions.**"
      ],
      "metadata": {
        "id": "f6aL3VgWlVwv"
      }
    },
    {
      "cell_type": "code",
      "source": [
        "# Global variable\n",
        "global_var = 10\n",
        "\n",
        "def increment_global():\n",
        "    global global_var\n",
        "    global_var += 1\n",
        "\n",
        "def multiply_global(factor):\n",
        "    global global_var\n",
        "    global_var *= factor\n",
        "\n",
        "def main():\n",
        "    print(\"Initial global_var:\", global_var)\n",
        "\n",
        "    increment_global()\n",
        "    print(\"After incrementing global_var:\", global_var)\n",
        "\n",
        "    multiply_global(3)\n",
        "    print(\"After multiplying global_var by 3:\", global_var)\n",
        "\n",
        "if __name__ == \"__main__\":\n",
        "    main()\n"
      ],
      "metadata": {
        "colab": {
          "base_uri": "https://localhost:8080/"
        },
        "id": "f391felrlcpt",
        "outputId": "12bffb42-0ab7-417e-ea55-b6e18ba77061"
      },
      "execution_count": 30,
      "outputs": [
        {
          "output_type": "stream",
          "name": "stdout",
          "text": [
            "Initial global_var: 10\n",
            "After incrementing global_var: 11\n",
            "After multiplying global_var by 3: 33\n"
          ]
        }
      ]
    },
    {
      "cell_type": "markdown",
      "source": [
        "**Q4. Create a Python function that calculates the factorial of a number and returns it.**"
      ],
      "metadata": {
        "id": "pko4oOowldEG"
      }
    },
    {
      "cell_type": "code",
      "source": [
        "def factorial(n):\n",
        "    if n == 0 or n == 1:\n",
        "        return 1\n",
        "    else:\n",
        "        return n * factorial(n - 1)\n",
        "\n",
        "# Example usage:\n",
        "num = 5\n",
        "result = factorial(num)\n",
        "print(f\"The factorial of {num} is: {result}\")  # Output: The factorial of 5 is: 120\n"
      ],
      "metadata": {
        "colab": {
          "base_uri": "https://localhost:8080/"
        },
        "id": "uVdpYwdflfLw",
        "outputId": "2be783d8-ec1c-4c28-fad7-feb51e4e7585"
      },
      "execution_count": 31,
      "outputs": [
        {
          "output_type": "stream",
          "name": "stdout",
          "text": [
            "The factorial of 5 is: 120\n"
          ]
        }
      ]
    },
    {
      "cell_type": "markdown",
      "source": [
        "**Q5. How can you access variables defined outside a function from within the function?**\n"
      ],
      "metadata": {
        "id": "UYgRMefplfla"
      }
    },
    {
      "cell_type": "markdown",
      "source": [
        "***Answer:***<br> can access variables defined outside a function (global variables) from within the function using the global keyword or by simply referencing the variable name. Here’s how you can do it:"
      ],
      "metadata": {
        "id": "tjFpzFbOlljf"
      }
    },
    {
      "cell_type": "code",
      "source": [
        "# Define a global variable\n",
        "global_var = 10\n",
        "\n",
        "# Define a function that accesses the global variable\n",
        "def access_global():\n",
        "    print(f\"Global variable global_var is: {global_var}\")\n",
        "\n",
        "# Call the function\n",
        "access_global()  # Output: Global variable global_var is: 10\n"
      ],
      "metadata": {
        "colab": {
          "base_uri": "https://localhost:8080/"
        },
        "id": "uKO3UNmWmFnK",
        "outputId": "f7e3f023-5540-435a-f43a-986c41dc2675"
      },
      "execution_count": 32,
      "outputs": [
        {
          "output_type": "stream",
          "name": "stdout",
          "text": [
            "Global variable global_var is: 10\n"
          ]
        }
      ]
    },
    {
      "cell_type": "markdown",
      "source": [
        "# Lambda Functions and Higher-Order Functions"
      ],
      "metadata": {
        "id": "Bb15ucLKl8K5"
      }
    },
    {
      "cell_type": "markdown",
      "source": [
        "**Q1. What are lambda functions in Python, and when are they typically used?**"
      ],
      "metadata": {
        "id": "_YrMseMkmLje"
      }
    },
    {
      "cell_type": "markdown",
      "source": [
        "***Answer:***<br>\n",
        "ambda functions in Python are small, anonymous (unnamed) functions defined with the lambda keyword.\n",
        "\n",
        "**Syntax**\n",
        "\n",
        "    lambda arguments: expression\n",
        "\n",
        "\n",
        "Common Use Cases:<br>\n",
        "Functional Programming: Lambda functions are frequently used in functional programming paradigms where operations are applied to data streams.\n",
        "\n",
        "Short-lived Functions: When the function's logic is simple and only needs to be used once or a few times, lambda functions provide a concise way to define them inline.\n",
        "\n",
        "Callback Functions: They are useful for defining callback functions in event-driven programming or asynchronous operations.\n"
      ],
      "metadata": {
        "id": "BQiCXDgQmcKo"
      }
    },
    {
      "cell_type": "code",
      "source": [
        "numbers = [1, 2, 3, 4, 5]\n",
        "squared = list(map(lambda x: x ** 2, numbers))\n",
        "print(squared)  # Output: [1, 4, 9, 16, 25]\n"
      ],
      "metadata": {
        "colab": {
          "base_uri": "https://localhost:8080/"
        },
        "id": "b_OBZ4XYmzkQ",
        "outputId": "55d49601-ec9b-4edf-ac77-2568b655fff3"
      },
      "execution_count": 33,
      "outputs": [
        {
          "output_type": "stream",
          "name": "stdout",
          "text": [
            "[1, 4, 9, 16, 25]\n"
          ]
        }
      ]
    },
    {
      "cell_type": "markdown",
      "source": [
        "**Q2. Write a Python program that uses lambda functions to sort a list of tuples based on the second element**"
      ],
      "metadata": {
        "id": "Qf5fj39Xm-Fs"
      }
    },
    {
      "cell_type": "code",
      "source": [
        "# List of tuples\n",
        "data = [(1, 5), (3, 2), (7, 8), (2, 4), (5, 1)]\n",
        "\n",
        "# Sort the list of tuples based on the second element (index 1)\n",
        "sorted_data = sorted(data, key=lambda x: x[1])\n",
        "\n",
        "# Print the sorted list\n",
        "print(\"Sorted data based on the second element:\")\n",
        "for tuple in sorted_data:\n",
        "    print(tuple)\n",
        "\n"
      ],
      "metadata": {
        "colab": {
          "base_uri": "https://localhost:8080/"
        },
        "id": "IyknMYySnFVq",
        "outputId": "2fd5a272-bfe0-4a43-fd09-4faeeac95d31"
      },
      "execution_count": 34,
      "outputs": [
        {
          "output_type": "stream",
          "name": "stdout",
          "text": [
            "Sorted data based on the second element:\n",
            "(5, 1)\n",
            "(3, 2)\n",
            "(2, 4)\n",
            "(1, 5)\n",
            "(7, 8)\n"
          ]
        }
      ]
    },
    {
      "cell_type": "markdown",
      "source": [
        "**Q3. Explain the concept of higher-order functions in Python, and provide an example.**"
      ],
      "metadata": {
        "id": "DFDIHk2unLJj"
      }
    },
    {
      "cell_type": "markdown",
      "source": [
        "***Answer*** <br>\n",
        "A higher-order function is one that either takes another function as an argument or returns a function as a result."
      ],
      "metadata": {
        "id": "7U7wSukQnOio"
      }
    },
    {
      "cell_type": "code",
      "source": [
        "def apply_function_on_list(func, lst):\n",
        "    \"\"\"Apply a function `func` to each element of list `lst`.\"\"\"\n",
        "    result = []\n",
        "    for item in lst:\n",
        "        result.append(func(item))\n",
        "    return result\n",
        "\n",
        "# Example functions to be used with apply_function_on_list\n",
        "def square(x):\n",
        "    return x ** 2\n",
        "\n",
        "def double(x):\n",
        "    return 2 * x\n",
        "\n",
        "# List of numbers\n",
        "numbers = [1, 2, 3, 4, 5]\n",
        "\n",
        "# Using apply_function_on_list with different functions\n",
        "squared_numbers = apply_function_on_list(square, numbers)\n",
        "print(\"Squared numbers:\", squared_numbers)  # Output: Squared numbers: [1, 4, 9, 16, 25]\n",
        "\n",
        "doubled_numbers = apply_function_on_list(double, numbers)\n",
        "print(\"Doubled numbers:\", doubled_numbers)  # Output: Doubled numbers: [2, 4, 6, 8, 10]\n"
      ],
      "metadata": {
        "colab": {
          "base_uri": "https://localhost:8080/"
        },
        "id": "-qYO44tKnlLx",
        "outputId": "99575562-1f3f-432f-b452-3a7319a2dc49"
      },
      "execution_count": 35,
      "outputs": [
        {
          "output_type": "stream",
          "name": "stdout",
          "text": [
            "Squared numbers: [1, 4, 9, 16, 25]\n",
            "Doubled numbers: [2, 4, 6, 8, 10]\n"
          ]
        }
      ]
    },
    {
      "cell_type": "markdown",
      "source": [
        "**Q4. Create a Python function that takes a list of numbers and a function as arguments, applying the function to each element in the list.**"
      ],
      "metadata": {
        "id": "9NkZWn3Pn2VI"
      }
    },
    {
      "cell_type": "code",
      "source": [
        "def apply_function_to_list(func, num_list):\n",
        "    \"\"\"Apply a function `func` to each element of list `num_list`.\"\"\"\n",
        "    result = []\n",
        "    for num in num_list:\n",
        "        result.append(func(num))\n",
        "    return result\n",
        "\n",
        "# List of numbers\n",
        "numbers = [1, 2, 3, 4, 5]\n",
        "\n",
        "# Using apply_function_to_list with lambda functions\n",
        "squared_numbers = apply_function_to_list(lambda x: x ** 2, numbers)\n",
        "print(\"Squared numbers:\", squared_numbers)  # Output: Squared numbers: [1, 4, 9, 16, 25]\n",
        "\n",
        "doubled_numbers = apply_function_to_list(lambda x: 2 * x, numbers)\n",
        "print(\"Doubled numbers:\", doubled_numbers)  # Output: Doubled numbers: [2, 4, 6, 8, 10]\n"
      ],
      "metadata": {
        "colab": {
          "base_uri": "https://localhost:8080/"
        },
        "id": "nfxm5bAtn9zX",
        "outputId": "66c9f773-3d53-4188-b37d-e6665f0fdc13"
      },
      "execution_count": 36,
      "outputs": [
        {
          "output_type": "stream",
          "name": "stdout",
          "text": [
            "Squared numbers: [1, 4, 9, 16, 25]\n",
            "Doubled numbers: [2, 4, 6, 8, 10]\n"
          ]
        }
      ]
    },
    {
      "cell_type": "markdown",
      "source": [
        "# Built-in Functions:"
      ],
      "metadata": {
        "id": "saa8YKmzoNUB"
      }
    },
    {
      "cell_type": "markdown",
      "source": [
        "**Q1. Describe the role of built-in functions like `len()`, `max()`, and `min()` in Python.**"
      ],
      "metadata": {
        "id": "_S9WtHbuoQZX"
      }
    },
    {
      "cell_type": "markdown",
      "source": [
        "***Anwer***<br>\n",
        "1. len()<br>\n",
        "Role: The len() function is used to get the length (number of items) of an object. It returns the number of items in an object, which can be a sequence (string, tuple, list, or range) or a collection (dictionary, set).\n",
        "<br>\n",
        "2. max()\n",
        "Role: The max() function is used to find the maximum value from a sequence or collection of values.<br>\n",
        "3. min()\n",
        "Role: The min() function is used to find the minimum value from a sequence or collection of values."
      ],
      "metadata": {
        "id": "sZaCSltPojKm"
      }
    },
    {
      "cell_type": "markdown",
      "source": [
        "**Q2. Write a Python program that uses the `map()` function to apply a function to each element of a list.**"
      ],
      "metadata": {
        "id": "nWp8pD3eoXnQ"
      }
    },
    {
      "cell_type": "code",
      "source": [
        "# Define a function to square a number\n",
        "def square(x):\n",
        "    return x ** 2\n",
        "\n",
        "# List of numbers\n",
        "numbers = [1, 2, 3, 4, 5]\n",
        "\n",
        "# Using map() to apply the square function to each element in numbers\n",
        "squared_numbers = list(map(square, numbers))\n",
        "\n",
        "# Print the original and squared numbers\n",
        "print(\"Original numbers:\", numbers)\n",
        "print(\"Squared numbers:\", squared_numbers)\n"
      ],
      "metadata": {
        "colab": {
          "base_uri": "https://localhost:8080/"
        },
        "id": "EaiG28xqo51x",
        "outputId": "d587476b-602e-447e-bfd6-6d111f24deec"
      },
      "execution_count": 37,
      "outputs": [
        {
          "output_type": "stream",
          "name": "stdout",
          "text": [
            "Original numbers: [1, 2, 3, 4, 5]\n",
            "Squared numbers: [1, 4, 9, 16, 25]\n"
          ]
        }
      ]
    },
    {
      "cell_type": "markdown",
      "source": [
        "**Q3. How does the `filter()` function work in Python, and when would you use it?**"
      ],
      "metadata": {
        "id": "oReqXqEwo6mg"
      }
    },
    {
      "cell_type": "markdown",
      "source": [
        "***Answer:***<br>\n",
        "The filter() function in Python is used to filter elements from an iterable (like lists, tuples, etc.) based on a function (or a condition) that returns True or False.<br>\n",
        "<br>\n",
        "When to Use filter():<br>\n",
        "Filtering Data: Use filter() when you need to extract elements from an iterable that satisfy a specific condition defined by a function.\n",
        "\n",
        "Complex Conditions: It's useful when the condition for filtering is more complex than what can be easily expressed with a list comprehension.\n",
        "\n",
        "Memory Efficiency: Since filter() returns an iterator rather than creating a new list, it can be more memory efficient when dealing with large datasets.\n",
        "\n",
        "Readability: It can improve the readability of your code when filtering based on a custom function rather than using loops or nested comprehensions."
      ],
      "metadata": {
        "id": "Np32lWDYpIyC"
      }
    },
    {
      "cell_type": "markdown",
      "source": [
        "**Q4. Create a Python program that uses the `reduce()` function to find the product of all elements in a list.**"
      ],
      "metadata": {
        "id": "P1NCRNRYpWti"
      }
    },
    {
      "cell_type": "code",
      "source": [
        "from functools import reduce\n",
        "\n",
        "# Define a function to multiply two numbers\n",
        "def multiply(x, y):\n",
        "    return x * y\n",
        "\n",
        "# List of numbers\n",
        "numbers = [1, 2, 3, 4, 5]\n",
        "\n",
        "# Use reduce() to find the product of all numbers in the list\n",
        "product = reduce(multiply, numbers)\n",
        "\n",
        "# Print the original list and the product\n",
        "print(\"Original numbers:\", numbers)\n",
        "print(\"Product of all numbers:\", product)\n"
      ],
      "metadata": {
        "colab": {
          "base_uri": "https://localhost:8080/"
        },
        "id": "UKGi0bI9pd1v",
        "outputId": "386e0da3-4aae-4550-eca7-49daa0e395cd"
      },
      "execution_count": 38,
      "outputs": [
        {
          "output_type": "stream",
          "name": "stdout",
          "text": [
            "Original numbers: [1, 2, 3, 4, 5]\n",
            "Product of all numbers: 120\n"
          ]
        }
      ]
    },
    {
      "cell_type": "markdown",
      "source": [
        "#Function Documentation and Best Practices:"
      ],
      "metadata": {
        "id": "h_KllcdQphAq"
      }
    },
    {
      "cell_type": "markdown",
      "source": [
        "**Q1.explain the purpose of docstrings in Python functions and how to write them.**"
      ],
      "metadata": {
        "id": "5Rq__DS-pk9A"
      }
    },
    {
      "cell_type": "markdown",
      "source": [
        "***Answer:***<br>\n",
        "Docstrings in Python functions serve the purpose of documenting what a function does, its parameters, return values, and any other relevant information. They are used to provide documentation that can be accessed programmatically (via the __doc__ attribute) or via documentation generation tools like Sphinx.\n",
        "<br>\n",
        "<br>\n",
        "Purpose of Docstrings:<br>\n",
        "Documentation: They describe the purpose and usage of the function, making it easier for other programmers (and yourself) to understand how to use the function correctly.\n",
        "\n",
        "Readability: They improve code readability by providing context and explanations directly within the code itself.\n",
        "\n",
        "Documentation Generation: Docstrings can be used by documentation generation tools to automatically generate documentation for libraries and modules.\n",
        "\n",
        "<br>\n",
        "**How to Write Docstrings:**<br>\n",
        "In Python, docstrings are written as a string literal that appears right after the function header (def statement) and before the function body. They are enclosed in triple quotes (\"\"\" \"\"\") to allow for multiline documentation.\n",
        "\n",
        "**Example**"
      ],
      "metadata": {
        "id": "m7WGXPUJpwRn"
      }
    },
    {
      "cell_type": "code",
      "source": [
        "def calculate_square(x):\n",
        "    \"\"\"\n",
        "    Calculate the square of a given number.\n",
        "\n",
        "    Parameters:\n",
        "    x (int or float): The number to be squared.\n",
        "\n",
        "    Returns:\n",
        "    int or float: The square of the input number x.\n",
        "    \"\"\"\n",
        "    return x ** 2\n"
      ],
      "metadata": {
        "id": "cwu9v753qUXw"
      },
      "execution_count": 39,
      "outputs": []
    },
    {
      "cell_type": "markdown",
      "source": [
        "**Q2. Describe some best practices for naming functions and variables in Python, including naming conventions and guidelines.**\n"
      ],
      "metadata": {
        "id": "-7vG4VDNpw0d"
      }
    },
    {
      "cell_type": "markdown",
      "source": [
        "***Answer***<br>\n",
        "\n",
        "Naming functions and variables in Python follows certain conventions and best practices to ensure code readability, consistency, and maintainability.\n",
        "\n",
        "**1. Function Naming:**<br>\n",
        "\n",
        "Use Verb-Noun Naming: Functions should typically be named using a verb followed by a noun or noun phrase that describes their action or purpose. For example, calculate_square, process_data, save_file.<br>\n",
        "\n",
        "Use Lowercase with Underscores: Use lowercase words separated by underscores (snake_case) for function names. This style is preferred in Python PEP 8 style guide.<br>\n",
        "\n",
        "Be Descriptive: Choose function names that clearly describe what the function does without being overly verbose. Avoid ambiguous or overly generic names.\n",
        "\n",
        "Avoid Abbreviations (unless widely understood): Abbreviations can reduce readability, so use them sparingly unless they are widely recognized (like num for number, calc for calculate, etc.).\n",
        "\n",
        "Consistent Naming: Maintain consistency in naming across your codebase to make it easier for others (and yourself) to understand and navigate the code.<br>\n",
        "\n",
        "    def calculate_square(number):\n",
        "    \"\"\"Calculates the square of a given number.\"\"\"\n",
        "       return number ** 2\n",
        "\n",
        "<br>\n",
        "\n",
        "**2. Variable Naming:**\n",
        "Use Lowercase with Underscores: Variable names should also be in snake_case—all lowercase words separated by underscores.\n",
        "\n",
        "Be Descriptive: Choose variable names that clearly convey the purpose or contents of the variable. Names like total_count, user_name, is_active are preferable over generic names like x, temp, flag.\n",
        "\n",
        "Use Intention-Revealing Names: Name variables based on what they represent or contain. This makes the code self-explanatory.\n",
        "\n",
        "Avoid Single-letter Names (except for counters or iterators): Single-letter variable names (i, j, k) are acceptable for short-lived variables like loop counters. For other variables, use descriptive names.\n",
        "\n",
        "Constants: Use all uppercase letters with underscores separating words (ALL_CAPS) for constants. Constants are variables whose values should not be changed once they are set.<br>\n",
        "\n",
        "        total_students = 100\n",
        "        average_grade = 85.5\n",
        "        is_active = True\n"
      ],
      "metadata": {
        "id": "CYiQv0oapz_y"
      }
    }
  ]
}